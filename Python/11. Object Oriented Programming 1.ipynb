{
 "cells": [
  {
   "cell_type": "markdown",
   "id": "66203331",
   "metadata": {},
   "source": [
    "![Cover](cover/11.%20Object%20Oriented%20Programming_1.png)"
   ]
  },
  {
   "cell_type": "markdown",
   "id": "1a2381ff",
   "metadata": {},
   "source": [
    "#### Outline\n",
    "* Class\n",
    "* Object\n",
    "* Class Attributes\n",
    "* Instance Attributes\n",
    "* Self Parameter\n",
    "* Static Method\n",
    "* Constructor"
   ]
  },
  {
   "cell_type": "markdown",
   "id": "3151ff0e",
   "metadata": {},
   "source": [
    "### What is Object Oriented Programming?\n",
    "OOP is a way of coding where you make things in your program act like real-life things. <br>\n",
    "Example: A car knows its color and speed, and it can drive or stop.\n"
   ]
  },
  {
   "cell_type": "markdown",
   "id": "f48ae139",
   "metadata": {},
   "source": [
    "### Class\n",
    "A class is a blueprint for making objects. <br>\n",
    "\n",
    "Example\n",
    "\n",
    "A Car class is like a blueprint for cars.\n",
    "\n",
    "It says every car has color and speed.\n",
    "\n",
    "Every car can drive and stop.\n"
   ]
  },
  {
   "cell_type": "code",
   "execution_count": 3,
   "id": "d4378889",
   "metadata": {},
   "outputs": [],
   "source": [
    "class Car:\n",
    "    pass"
   ]
  },
  {
   "cell_type": "code",
   "execution_count": 4,
   "id": "599c5fc8",
   "metadata": {},
   "outputs": [],
   "source": [
    "class School:\n",
    "    pass"
   ]
  },
  {
   "cell_type": "markdown",
   "id": "2a50f1dc",
   "metadata": {},
   "source": [
    "### Object\n",
    "An object is a real thing you create from a class. <br>\n",
    "\n",
    "Example\n",
    "\n",
    "If Car is the blueprint, a red Toyota is the object."
   ]
  },
  {
   "cell_type": "code",
   "execution_count": null,
   "id": "e6ede476",
   "metadata": {},
   "outputs": [
    {
     "name": "stdout",
     "output_type": "stream",
     "text": [
      "Toyota\n"
     ]
    }
   ],
   "source": [
    "class Car:\n",
    "    def name(self):\n",
    "        print(f\"Car name is{self.name}\")\n",
    "        \n",
    "        \n",
    "        \n",
    "Carname = Car()\n",
    "Carname.name = \"Toyota\"\n",
    "print(Carname.name)\n",
    "        \n",
    "        "
   ]
  },
  {
   "cell_type": "code",
   "execution_count": 9,
   "id": "13653703",
   "metadata": {},
   "outputs": [
    {
     "name": "stdout",
     "output_type": "stream",
     "text": [
      "BMW\n"
     ]
    }
   ],
   "source": [
    "Carname.name = \"BMW\"\n",
    "print(Carname.name)"
   ]
  },
  {
   "cell_type": "code",
   "execution_count": 10,
   "id": "7894a6ee",
   "metadata": {},
   "outputs": [],
   "source": [
    "class Car:\n",
    "    def name(self):\n",
    "        print(f\"Car name is{self.name}\")\n",
    "        \n",
    "    def color(self):\n",
    "        print(f\"Car color is {self.color}\")\n",
    "        \n",
    "\n",
    "        "
   ]
  },
  {
   "cell_type": "code",
   "execution_count": 12,
   "id": "67a6e7d0",
   "metadata": {},
   "outputs": [
    {
     "name": "stdout",
     "output_type": "stream",
     "text": [
      "BMW\n",
      "Black\n"
     ]
    }
   ],
   "source": [
    "CarModel = Car()\n",
    "CarModel.name = \"BMW\"\n",
    "CarModel.color = \"Black\"\n",
    "print(CarModel.name)\n",
    "print(CarModel.color)"
   ]
  },
  {
   "cell_type": "markdown",
   "id": "757e80b6",
   "metadata": {},
   "source": [
    "### Class Attributes\n",
    "An attribute that belongs to the class rather than a particular object.\n",
    "\n",
    "It's directly associated with the class."
   ]
  },
  {
   "cell_type": "code",
   "execution_count": 17,
   "id": "7b95f3e0",
   "metadata": {},
   "outputs": [
    {
     "name": "stdout",
     "output_type": "stream",
     "text": [
      "BMW\n"
     ]
    }
   ],
   "source": [
    "class Car:\n",
    "    name = \"BMW\"\n",
    "    \n",
    "c = Car()\n",
    "print(c.name)"
   ]
  },
  {
   "cell_type": "code",
   "execution_count": 18,
   "id": "b37d3e14",
   "metadata": {},
   "outputs": [
    {
     "name": "stdout",
     "output_type": "stream",
     "text": [
      "BMW\n",
      "Black\n"
     ]
    }
   ],
   "source": [
    "class Car:\n",
    "    name = \"BMW\"\n",
    "    color = \"Black\"\n",
    "    \n",
    "c = Car()\n",
    "print(c.name)\n",
    "print(c.color)"
   ]
  },
  {
   "cell_type": "code",
   "execution_count": 20,
   "id": "c2901f51",
   "metadata": {},
   "outputs": [
    {
     "name": "stdout",
     "output_type": "stream",
     "text": [
      "Toyota\n"
     ]
    }
   ],
   "source": [
    "class Car:\n",
    "    name = \"BMW\"\n",
    "    \n",
    "carname = Car()\n",
    "carname.name = \"Toyota\"\n",
    "print(carname.name)"
   ]
  },
  {
   "cell_type": "markdown",
   "id": "1e78ced5",
   "metadata": {},
   "source": [
    "### Object Attributes\n",
    "An attribute that belongs to a particular object rather than the class itself."
   ]
  },
  {
   "cell_type": "code",
   "execution_count": 24,
   "id": "6ad594da",
   "metadata": {},
   "outputs": [
    {
     "name": "stdout",
     "output_type": "stream",
     "text": [
      "Black\n"
     ]
    }
   ],
   "source": [
    "class Car:\n",
    "    name = \"BMW\"\n",
    "    \n",
    "car1 = Car()\n",
    "car1.color = \"Black\"\n",
    "print(car1.color)"
   ]
  },
  {
   "cell_type": "code",
   "execution_count": 25,
   "id": "ad7f972e",
   "metadata": {},
   "outputs": [
    {
     "name": "stdout",
     "output_type": "stream",
     "text": [
      "Toyota\n"
     ]
    }
   ],
   "source": [
    "class Car:\n",
    "    name = \"BMW\"\n",
    "    \n",
    "car1 = Car()\n",
    "car1.name = \"Toyota\"\n",
    "print(car1.name)"
   ]
  },
  {
   "cell_type": "markdown",
   "id": "4374998b",
   "metadata": {},
   "source": [
    "### \"self\" parameter\n",
    "Self in Python means \"this object itself\".\n",
    "\n",
    "It lets the object use its own data and own functions.\n",
    "\n",
    "Example:\n",
    "If a car says self.color, it means \"my color\"."
   ]
  },
  {
   "cell_type": "code",
   "execution_count": 30,
   "id": "4051f580",
   "metadata": {},
   "outputs": [
    {
     "name": "stdout",
     "output_type": "stream",
     "text": [
      "Car color is brown\n"
     ]
    }
   ],
   "source": [
    "class Car:\n",
    "    \n",
    "    def color(self, color):\n",
    "        self.color = color\n",
    "        print(f\"Car color is {self.color}\")\n",
    "        \n",
    "car1 = Car()\n",
    "car1.color(\"brown\")"
   ]
  },
  {
   "cell_type": "code",
   "execution_count": 31,
   "id": "626ae70d",
   "metadata": {},
   "outputs": [
    {
     "name": "stdout",
     "output_type": "stream",
     "text": [
      "Car color is brown\n"
     ]
    }
   ],
   "source": [
    "class Car:\n",
    "    \n",
    "    def color(slf, color):\n",
    "        slf.color = color\n",
    "        print(f\"Car color is {slf.color}\")\n",
    "        \n",
    "car1 = Car()\n",
    "car1.color(\"brown\")"
   ]
  },
  {
   "cell_type": "markdown",
   "id": "14e099f0",
   "metadata": {},
   "source": [
    "### Static method\n",
    "\n",
    "A static method in Python is a method inside a class that:\n",
    "* Does not use self (object) or cls (class)\n",
    "* Works like a normal function, but is placed inside a class for organization\n",
    "* Belongs to the class, not to any one object\n",
    "* You make one with @staticmethod\n"
   ]
  },
  {
   "cell_type": "code",
   "execution_count": 33,
   "id": "7f0103ae",
   "metadata": {},
   "outputs": [
    {
     "name": "stdout",
     "output_type": "stream",
     "text": [
      "Car name is BMW\n"
     ]
    }
   ],
   "source": [
    "class car:\n",
    "    \n",
    "    @staticmethod\n",
    "    \n",
    "    def name():\n",
    "        print(\"Car name is BMW\")\n",
    "\n",
    "car1 = car()\n",
    "car1.name()"
   ]
  },
  {
   "cell_type": "code",
   "execution_count": null,
   "id": "4b495ef2",
   "metadata": {},
   "outputs": [
    {
     "name": "stdout",
     "output_type": "stream",
     "text": [
      "The sum is: 15\n"
     ]
    }
   ],
   "source": [
    "class calculator:\n",
    "    \n",
    "    @staticmethod\n",
    "    \n",
    "    def add(x, y):\n",
    "        return x + y\n",
    "    \n",
    "calc = calculator()\n",
    "result = calc.add(5, 10)\n",
    "print(f\"The sum is: {result}\")"
   ]
  },
  {
   "cell_type": "markdown",
   "id": "da365a1e",
   "metadata": {},
   "source": [
    "### Constructor\n",
    "\n",
    "* It's a special method that runs automatically when you create an object.\n",
    "* It always has self as the first parameter, plus any other parameters you need to set up the object.\n",
    "\n"
   ]
  },
  {
   "cell_type": "code",
   "execution_count": 35,
   "id": "75243534",
   "metadata": {},
   "outputs": [
    {
     "name": "stdout",
     "output_type": "stream",
     "text": [
      "Car name is Toyota\n"
     ]
    }
   ],
   "source": [
    "class car:\n",
    "    \n",
    "    def __init__(self, name):\n",
    "        self.name = name\n",
    "        print(f\"Car name is {self.name}\")\n",
    "        \n",
    "car1 = car(\"Toyota\")\n",
    "\n",
    "        "
   ]
  },
  {
   "cell_type": "code",
   "execution_count": 36,
   "id": "d09b6bbc",
   "metadata": {},
   "outputs": [
    {
     "name": "stdout",
     "output_type": "stream",
     "text": [
      "2020 Toyota Corolla\n"
     ]
    }
   ],
   "source": [
    "class Car:\n",
    "    def __init__(self, make, model, year):\n",
    "        self.make = make\n",
    "        self.model = model\n",
    "        self.year = year\n",
    "\n",
    "    def display_info(self):\n",
    "        return f\"{self.year} {self.make} {self.model}\"\n",
    "    \n",
    "car1 = Car(\"Toyota\", \"Corolla\", 2020)\n",
    "print(car1.display_info())"
   ]
  },
  {
   "cell_type": "markdown",
   "id": "8f0e20f7",
   "metadata": {},
   "source": [
    "For More details <br>\n",
    "https://sites.google.com/view/aorbtech/programming/python"
   ]
  }
 ],
 "metadata": {
  "kernelspec": {
   "display_name": "Python 3",
   "language": "python",
   "name": "python3"
  },
  "language_info": {
   "codemirror_mode": {
    "name": "ipython",
    "version": 3
   },
   "file_extension": ".py",
   "mimetype": "text/x-python",
   "name": "python",
   "nbconvert_exporter": "python",
   "pygments_lexer": "ipython3",
   "version": "3.11.9"
  }
 },
 "nbformat": 4,
 "nbformat_minor": 5
}
