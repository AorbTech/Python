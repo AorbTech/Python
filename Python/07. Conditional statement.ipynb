{
 "cells": [
  {
   "cell_type": "markdown",
   "metadata": {},
   "source": [
    "![cover](cover/7.%20Conditional%20Statement.png)"
   ]
  },
  {
   "cell_type": "markdown",
   "metadata": {},
   "source": [
    "### outline\n",
    "* if else statement\n",
    "* match case\n"
   ]
  },
  {
   "cell_type": "markdown",
   "metadata": {},
   "source": [
    "### 7. Conditional Statement\n",
    "A conditional statement in Python is used to make decisions in a program. It checks a condition (True or False) and runs code based on that condition."
   ]
  },
  {
   "cell_type": "markdown",
   "metadata": {},
   "source": [
    "### 7.1 If else\n",
    "Example in Simple Words:\n",
    "\n",
    "If it is raining, take an umbrella.\n",
    "\n",
    "Else, wear sunglasses.\n",
    "\n",
    "\n",
    "### How It Works:\n",
    "\n",
    "The program checks: Is the weather \"rain\"?\n",
    "\n",
    "If Yes, it prints \"Take an umbrella.\"\n",
    "\n",
    "If No, it prints \"Wear sunglasses.\""
   ]
  },
  {
   "cell_type": "code",
   "execution_count": null,
   "metadata": {},
   "outputs": [
    {
     "name": "stdout",
     "output_type": "stream",
     "text": [
      "Bring an umbrella\n"
     ]
    }
   ],
   "source": [
    "weather = 'rain'\n",
    "\n",
    "\n",
    "if weather == 'rain':              # condition is  true so if statement will run\n",
    "\n",
    "    print('Bring an umbrella')\n",
    "\n",
    "\n",
    "else:\n",
    "\n",
    "    print('No need for an umbrella')"
   ]
  },
  {
   "cell_type": "code",
   "execution_count": 2,
   "metadata": {},
   "outputs": [
    {
     "name": "stdout",
     "output_type": "stream",
     "text": [
      "No need for an umbrella\n"
     ]
    }
   ],
   "source": [
    "weather = 'sunny'\n",
    "\n",
    "\n",
    "if weather == 'rain':             # condition is false so else statement will run\n",
    "\n",
    "    print('Bring an umbrella')\n",
    "    \n",
    "else:\n",
    "\n",
    "    print('No need for an umbrella')"
   ]
  },
  {
   "cell_type": "markdown",
   "metadata": {},
   "source": [
    "### 7.2 elif statement\n",
    "The elif (short for \"else if\") statement is used when you have multiple conditions to check.\n",
    "\n",
    "How elif Works?\n",
    "\n",
    "if → Checks the first condition.\n",
    "\n",
    "elif → Checks another condition if the first is False.\n",
    "\n",
    "else → Runs if all conditions are False"
   ]
  },
  {
   "cell_type": "code",
   "execution_count": 3,
   "metadata": {},
   "outputs": [
    {
     "name": "stdout",
     "output_type": "stream",
     "text": [
      "Wear a hat\n"
     ]
    }
   ],
   "source": [
    "weather = 'sunny'\n",
    "\n",
    "if weather == 'rain':                # Condition false so will check next statement \n",
    "\n",
    "    print('Bring an umbrella')\n",
    "\n",
    "\n",
    "elif weather == 'sunny':   # condition true so program will stop here and print elif\n",
    "\n",
    "    print('Wear a hat')\n",
    "\n",
    "else:\n",
    "\n",
    "    print('No need for an umbrella or hat')"
   ]
  },
  {
   "cell_type": "code",
   "execution_count": 4,
   "metadata": {},
   "outputs": [
    {
     "name": "stdout",
     "output_type": "stream",
     "text": [
      "Grade: B\n"
     ]
    }
   ],
   "source": [
    "marks = 75\n",
    "\n",
    "\n",
    "\n",
    "if marks >= 90:\n",
    "\n",
    "    print(\"Grade: A\")\n",
    "\n",
    "elif marks >= 75:\n",
    "\n",
    "    print(\"Grade: B\")  # This runs\n",
    "\n",
    "elif marks >= 60:\n",
    "\n",
    "    print(\"Grade: C\")\n",
    "\n",
    "else:\n",
    "\n",
    "    print(\"Grade: D\")"
   ]
  },
  {
   "cell_type": "markdown",
   "metadata": {},
   "source": [
    "### 7.3 Nested If, elif, else"
   ]
  },
  {
   "cell_type": "code",
   "execution_count": 5,
   "metadata": {},
   "outputs": [
    {
     "name": "stdout",
     "output_type": "stream",
     "text": [
      "a is equal to 10\n",
      "a is even\n"
     ]
    }
   ],
   "source": [
    "a = 10\n",
    "\n",
    "\n",
    "\n",
    "if a > 10:\n",
    "\n",
    "    print('a is greater than 10')\n",
    "\n",
    "\n",
    "elif a == 10:\n",
    "\n",
    "    print('a is equal to 10')\n",
    "\n",
    "\n",
    "    if a % 2 == 0:                     # Nested elif example\n",
    "\n",
    "        print('a is even')\n",
    "\n",
    "else:\n",
    "\n",
    "    print('a is less than 10')"
   ]
  },
  {
   "cell_type": "markdown",
   "metadata": {},
   "source": [
    "### 7.4 Multiple If statement\n",
    "\n",
    "Multiple if statements are used when you want to check several conditions.\n",
    "\n",
    "Each if statement is independent, meaning that each condition is checked separately, and all conditions that evaluate to True will run their respective code."
   ]
  },
  {
   "cell_type": "code",
   "execution_count": 6,
   "metadata": {},
   "outputs": [
    {
     "name": "stdout",
     "output_type": "stream",
     "text": [
      "a is equal to 10\n",
      "b is equal to 9\n"
     ]
    }
   ],
   "source": [
    "a = 10\n",
    "\n",
    "b = 9\n",
    "\n",
    "\n",
    "if a == 10:                      # true statement\n",
    "\n",
    "    print('a is equal to 10')    # independent if statement   \n",
    "    \n",
    "\n",
    "if b == 9:                        # (true statement)\n",
    "\n",
    "    print('b is equal to 9')\n",
    "\n",
    "else:\n",
    "\n",
    "    print('a and b are not equal to 10 and 9')"
   ]
  },
  {
   "cell_type": "markdown",
   "metadata": {},
   "source": [
    "### 7.5 Switch case\n",
    "* Cleaner & More Readable than if-elif-else\n",
    "\n",
    "* Better Performance in some cases\n",
    "\n",
    "* Works like switch in other languages\n",
    "\n",
    "Note: Requires Python 3.10+. Not available in older versions"
   ]
  },
  {
   "cell_type": "code",
   "execution_count": null,
   "metadata": {},
   "outputs": [
    {
     "name": "stdout",
     "output_type": "stream",
     "text": [
      "It's yellow!\n"
     ]
    }
   ],
   "source": [
    "fruit = \"banana\"\n",
    "\n",
    "\n",
    "\n",
    "match fruit:       # first it match the statement and based on match it check case\n",
    "\n",
    "    case \"apple\":\n",
    "\n",
    "        print(\"It's red!\")\n",
    "\n",
    "    case \"banana\":                       # true so print the result of that case\n",
    "\n",
    "        print(\"It's yellow!\") \n",
    "\n",
    "    case \"grape\":\n",
    "\n",
    "        print(\"It's purple!\")\n",
    "\n",
    "    case _:\n",
    "\n",
    "        print(\"Unknown fruit!\")"
   ]
  },
  {
   "cell_type": "markdown",
   "metadata": {},
   "source": [
    "For More details <br>\n",
    "https://sites.google.com/view/aorbtech/programming/python"
   ]
  }
 ],
 "metadata": {
  "kernelspec": {
   "display_name": "Python 3",
   "language": "python",
   "name": "python3"
  },
  "language_info": {
   "codemirror_mode": {
    "name": "ipython",
    "version": 3
   },
   "file_extension": ".py",
   "mimetype": "text/x-python",
   "name": "python",
   "nbconvert_exporter": "python",
   "pygments_lexer": "ipython3",
   "version": "3.11.9"
  }
 },
 "nbformat": 4,
 "nbformat_minor": 2
}
