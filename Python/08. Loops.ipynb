{
 "cells": [
  {
   "cell_type": "markdown",
   "id": "fef36745",
   "metadata": {},
   "source": [
    "![Image](cover/8.%20loops.png)"
   ]
  },
  {
   "cell_type": "markdown",
   "id": "937d2447",
   "metadata": {},
   "source": [
    "#### Outline\n",
    "1. While loops\n",
    "2. For Loops\n",
    "3. The Range Function\n",
    "4. Jump Statements\n",
    "5. List Comprehension"
   ]
  },
  {
   "cell_type": "markdown",
   "id": "fa51f910",
   "metadata": {},
   "source": [
    "#### 8 Loops: Iterative Statements\n",
    "A loop or iterative statement, is a block of code that repeats a known (definite) or unknown (undefinite) number of times."
   ]
  },
  {
   "cell_type": "markdown",
   "id": "6849db35",
   "metadata": {},
   "source": [
    "#### 8.1 While Loops"
   ]
  },
  {
   "cell_type": "markdown",
   "id": "7ec90e40",
   "metadata": {},
   "source": [
    "while [condition]: </br>\n",
    "&nbsp;&nbsp;&nbsp;&nbsp;[code]"
   ]
  },
  {
   "cell_type": "code",
   "execution_count": 1,
   "id": "b2652478",
   "metadata": {},
   "outputs": [
    {
     "name": "stdout",
     "output_type": "stream",
     "text": [
      "0\n",
      "1\n",
      "2\n",
      "3\n",
      "4\n",
      "5\n",
      "6\n",
      "7\n",
      "8\n",
      "9\n"
     ]
    }
   ],
   "source": [
    "num1 = 0            # define a variable to keep track of a value\n",
    "while num1 < 10:    # start a loop that repeats while the variable is smaller than 10\n",
    "    print(num1)     # print the value\n",
    "    num1 = num1 + 1 # increment the variable by 1\n",
    "                    # the result prints the numbers from 0 to 9"
   ]
  },
  {
   "cell_type": "code",
   "execution_count": 2,
   "id": "88838784",
   "metadata": {},
   "outputs": [
    {
     "name": "stdout",
     "output_type": "stream",
     "text": [
      "Else\n"
     ]
    }
   ],
   "source": [
    "while False:        # while loops run based on conditions\n",
    "    print(\"False\")  # this code will never run\n",
    "print(\"Else\")       # this code will run after the loop"
   ]
  },
  {
   "cell_type": "code",
   "execution_count": 3,
   "id": "75c4c6c0",
   "metadata": {},
   "outputs": [
    {
     "name": "stdout",
     "output_type": "stream",
     "text": [
      "Your password is: Aorb1234\n"
     ]
    }
   ],
   "source": [
    "password = input(\"Please enter a password\")     # prompt the user for a password\n",
    "while len(password) < 8:    # the following code will only run while the password is less than 8 characters in length\n",
    "    print(\"Password is too short\")\n",
    "    password = input(\"Please enter a password\") # prompt the user to enter a password again\n",
    "print(\"Your password is: \" + password)"
   ]
  },
  {
   "cell_type": "code",
   "execution_count": 4,
   "id": "7e628464",
   "metadata": {},
   "outputs": [
    {
     "name": "stdout",
     "output_type": "stream",
     "text": [
      "Monday\n",
      "Tuesday\n",
      "Wednesday\n",
      "Thursday\n",
      "Friday\n",
      "Saturday\n",
      "Sunday\n"
     ]
    }
   ],
   "source": [
    "dotw = [\"Monday\", \"Tuesday\", \"Wednesday\", \"Thursday\", \"Friday\", \"Saturday\", \"Sunday\"]\n",
    "index = 0\n",
    "while index < 7:\n",
    "    print(dotw[index])\n",
    "    index = index + 1"
   ]
  },
  {
   "cell_type": "markdown",
   "id": "9152d487",
   "metadata": {},
   "source": [
    "#### 8.2 For Loops"
   ]
  },
  {
   "cell_type": "markdown",
   "id": "dc12cdd8",
   "metadata": {},
   "source": [
    "for [item] in [iterable]:</br>\n",
    "&nbsp;&nbsp;&nbsp;&nbsp;[code]"
   ]
  },
  {
   "cell_type": "code",
   "execution_count": 5,
   "id": "19d8ebba",
   "metadata": {},
   "outputs": [
    {
     "name": "stdout",
     "output_type": "stream",
     "text": [
      "Abby\n",
      "Becker\n",
      "Connor\n",
      "Danny\n",
      "Helen\n",
      "Nick\n",
      "Sarah\n"
     ]
    }
   ],
   "source": [
    "names = [\"Abby\", \"Becker\", \"Connor\", \"Danny\", \"Helen\", \"Nick\", \"Sarah\"]\n",
    "for name in names:      # creates new variable \"name\" stores the value of the current item in names\n",
    "    print(name)         # print the name variable, then the loop visits the next item until the end of the list"
   ]
  },
  {
   "cell_type": "code",
   "execution_count": 6,
   "id": "86b6cac5",
   "metadata": {},
   "outputs": [],
   "source": [
    "name_surname = {\n",
    "    \"Eric\" : \"Barreto\",\n",
    "    \"Amir\" : \"Ali\",\n",
    "    \"Jeff\" : \"Vandermeer\",\n",
    "    \"Michael\" : \"Chrichton\"\n",
    "}"
   ]
  },
  {
   "cell_type": "code",
   "execution_count": 7,
   "id": "40dfa20e",
   "metadata": {},
   "outputs": [
    {
     "name": "stdout",
     "output_type": "stream",
     "text": [
      "Eric Barreto\n",
      "Amir Ali\n",
      "Jeff Vandermeer\n",
      "Michael Chrichton\n"
     ]
    }
   ],
   "source": [
    "for key, value in name_surname.items(): # creates variables for the current key-value pair of our dictionary\n",
    "    print(f\"{key} {value}\") # print the full name of each person, then visit the next key-value pair until the end"
   ]
  },
  {
   "cell_type": "code",
   "execution_count": 8,
   "id": "5717fc68",
   "metadata": {},
   "outputs": [
    {
     "name": "stdout",
     "output_type": "stream",
     "text": [
      "E.B.\n",
      "A.A.\n",
      "J.V.\n",
      "M.C.\n"
     ]
    }
   ],
   "source": [
    "for key, value in name_surname.items():\n",
    "    print(f\"{key[0]}.{value[0]}.\")      # print the initials of each person"
   ]
  },
  {
   "cell_type": "markdown",
   "id": "4d58f5e1",
   "metadata": {},
   "source": [
    "#### 8.3 Range Function\n",
    "The range function generates a sequence of numbers, it follows the format:</br>\n",
    "`range(start, stop, step size)` </br>\n",
    "It returns an iterable object, which allows us to create some numerical patterns."
   ]
  },
  {
   "cell_type": "code",
   "execution_count": 9,
   "id": "7cf8c1ad",
   "metadata": {},
   "outputs": [
    {
     "name": "stdout",
     "output_type": "stream",
     "text": [
      "0\n",
      "1\n",
      "2\n",
      "3\n",
      "4\n",
      "5\n",
      "6\n",
      "7\n",
      "8\n",
      "9\n"
     ]
    }
   ],
   "source": [
    "for value in range(10):    # new \"value\" variable will visit every number in the range (0-10) (non-inclusive)\n",
    "    print(value)    # print values 0 through 9"
   ]
  },
  {
   "cell_type": "code",
   "execution_count": 10,
   "id": "5f326b1a",
   "metadata": {},
   "outputs": [
    {
     "name": "stdout",
     "output_type": "stream",
     "text": [
      "0\n",
      "2\n",
      "4\n",
      "6\n",
      "8\n",
      "10\n"
     ]
    }
   ],
   "source": [
    "for even_value in range(0,11,2): # this time we include a step size of 2, which means we go up by 2 each time\n",
    "    print(even_value)            # starting from 0 to 11 (non-inclusive) allows us to print even numbers from 0-10"
   ]
  },
  {
   "cell_type": "code",
   "execution_count": 11,
   "id": "165fec24",
   "metadata": {},
   "outputs": [],
   "source": [
    "ordinals = ['first', 'second', 'third', 'fourth', 'fifth']\n",
    "# remember that the index of the first element is 0, not 1"
   ]
  },
  {
   "cell_type": "code",
   "execution_count": 12,
   "id": "3723a5ae",
   "metadata": {},
   "outputs": [
    {
     "name": "stdout",
     "output_type": "stream",
     "text": [
      "first\n",
      "second\n",
      "third\n",
      "fourth\n",
      "fifth\n"
     ]
    }
   ],
   "source": [
    "for index in range(0,5):\n",
    "    print(ordinals[index])"
   ]
  },
  {
   "cell_type": "code",
   "execution_count": 13,
   "id": "59ff0061",
   "metadata": {},
   "outputs": [],
   "source": [
    "numbers = ['one', 'two', 'three', 'four', 'five']"
   ]
  },
  {
   "cell_type": "code",
   "execution_count": 14,
   "id": "6170c640",
   "metadata": {},
   "outputs": [
    {
     "name": "stdout",
     "output_type": "stream",
     "text": [
      "0 : one\n",
      "1 : two\n",
      "2 : three\n"
     ]
    }
   ],
   "source": [
    "for index in range(3): # print the first 3 elements and their indeces\n",
    "    print(f\"{index} : {numbers[index]}\")"
   ]
  },
  {
   "cell_type": "code",
   "execution_count": 15,
   "id": "6265802f",
   "metadata": {},
   "outputs": [
    {
     "name": "stdout",
     "output_type": "stream",
     "text": [
      "one\n",
      "two\n",
      "three\n",
      "four\n",
      "five\n"
     ]
    },
    {
     "ename": "IndexError",
     "evalue": "list index out of range",
     "output_type": "error",
     "traceback": [
      "\u001b[31m---------------------------------------------------------------------------\u001b[39m",
      "\u001b[31mIndexError\u001b[39m                                Traceback (most recent call last)",
      "\u001b[36mCell\u001b[39m\u001b[36m \u001b[39m\u001b[32mIn[15]\u001b[39m\u001b[32m, line 2\u001b[39m\n\u001b[32m      1\u001b[39m \u001b[38;5;28;01mfor\u001b[39;00m index \u001b[38;5;129;01min\u001b[39;00m \u001b[38;5;28mrange\u001b[39m(\u001b[32m6\u001b[39m):\n\u001b[32m----> \u001b[39m\u001b[32m2\u001b[39m     \u001b[38;5;28mprint\u001b[39m(\u001b[43mnumbers\u001b[49m\u001b[43m[\u001b[49m\u001b[43mindex\u001b[49m\u001b[43m]\u001b[49m) \u001b[38;5;66;03m# we get an error because we try to access an element outside of the list\u001b[39;00m\n",
      "\u001b[31mIndexError\u001b[39m: list index out of range"
     ]
    }
   ],
   "source": [
    "for index in range(6):\n",
    "    print(numbers[index]) # we get an error because we try to access an element outside of the list"
   ]
  },
  {
   "cell_type": "markdown",
   "id": "ccc89bba",
   "metadata": {},
   "source": [
    "##### Reverse Range - The Reversed Function"
   ]
  },
  {
   "cell_type": "code",
   "execution_count": 16,
   "id": "cbe6dd04",
   "metadata": {},
   "outputs": [
    {
     "name": "stdout",
     "output_type": "stream",
     "text": [
      "9\n",
      "8\n",
      "7\n",
      "6\n",
      "5\n",
      "4\n",
      "3\n",
      "2\n",
      "1\n",
      "0\n"
     ]
    }
   ],
   "source": [
    "# to reverse the range function we use the reversed function\n",
    "for num in reversed(range(10)):\n",
    "    print(num)"
   ]
  },
  {
   "cell_type": "markdown",
   "id": "7b77c8dd",
   "metadata": {},
   "source": [
    "#### 8.4 Jump Statements"
   ]
  },
  {
   "cell_type": "markdown",
   "id": "77f2e457",
   "metadata": {},
   "source": [
    "Jump statements allow us to modify the behavious of our loops to include alternative scenarios and to stop under certain conditions."
   ]
  },
  {
   "cell_type": "markdown",
   "id": "cbc27d00",
   "metadata": {},
   "source": [
    "##### Else\n",
    "This allows us to run another block of code if the initial condition of the loop is not met."
   ]
  },
  {
   "cell_type": "code",
   "execution_count": 17,
   "id": "32b6cc42",
   "metadata": {},
   "outputs": [
    {
     "ename": "ValueError",
     "evalue": "invalid literal for int() with base 10: ''",
     "output_type": "error",
     "traceback": [
      "\u001b[31m---------------------------------------------------------------------------\u001b[39m",
      "\u001b[31mValueError\u001b[39m                                Traceback (most recent call last)",
      "\u001b[36mCell\u001b[39m\u001b[36m \u001b[39m\u001b[32mIn[17]\u001b[39m\u001b[32m, line 1\u001b[39m\n\u001b[32m----> \u001b[39m\u001b[32m1\u001b[39m num = \u001b[38;5;28;43mint\u001b[39;49m\u001b[43m(\u001b[49m\u001b[38;5;28;43minput\u001b[39;49m\u001b[43m(\u001b[49m\u001b[33;43m'\u001b[39;49m\u001b[33;43mplease enter a number\u001b[39;49m\u001b[33;43m'\u001b[39;49m\u001b[43m)\u001b[49m\u001b[43m)\u001b[49m\n\u001b[32m      3\u001b[39m \u001b[38;5;28;01mwhile\u001b[39;00m num < \u001b[32m5\u001b[39m:                  \u001b[38;5;66;03m# if the user enters a number smaller than 5\u001b[39;00m\n\u001b[32m      4\u001b[39m     \u001b[38;5;28mprint\u001b[39m(num)\n",
      "\u001b[31mValueError\u001b[39m: invalid literal for int() with base 10: ''"
     ]
    }
   ],
   "source": [
    "num = int(input('please enter a number'))\n",
    "\n",
    "while num < 5:                  # if the user enters a number smaller than 5\n",
    "    print(num)\n",
    "    # this notation is equivelant to num1 = num1 + 1\n",
    "    num += 1                    # increment the number\n",
    "else:\n",
    "    while num > 5:              # if the user enters a number larger than 5\n",
    "        print(num)\n",
    "        # this notation is equivelant to num1 = num1 - 1\n",
    "        num -= 1                # decrement the number\n",
    "    else:\n",
    "        print(num)              # when the number is equal to 5\n"
   ]
  },
  {
   "cell_type": "markdown",
   "id": "3dd6c5bc",
   "metadata": {},
   "source": [
    "##### Break\n",
    "This allows us to exit the loop without completing it."
   ]
  },
  {
   "cell_type": "code",
   "execution_count": 18,
   "id": "9dbee73a",
   "metadata": {},
   "outputs": [
    {
     "name": "stdout",
     "output_type": "stream",
     "text": [
      "we found your favourite number! :D\n"
     ]
    }
   ],
   "source": [
    "for number in range (1,11):\n",
    "    if input(f\"is {number} your favourite number? \") == 'yes':\n",
    "        print(\"we found your favourite number! :D\")\n",
    "        break"
   ]
  },
  {
   "cell_type": "markdown",
   "id": "aa4ea6e6",
   "metadata": {},
   "source": [
    "##### Continue\n",
    "This allows us to move on to the next iteration of the loop."
   ]
  },
  {
   "cell_type": "code",
   "execution_count": 19,
   "id": "0446a716",
   "metadata": {},
   "outputs": [
    {
     "name": "stdout",
     "output_type": "stream",
     "text": [
      "0\n",
      "2\n",
      "4\n",
      "6\n",
      "8\n",
      "10\n"
     ]
    }
   ],
   "source": [
    "# another way of printing even numbers\n",
    "for number in range (0,11):\n",
    "    if number % 2 != 0:     # if the number is not even\n",
    "        continue            # skip this iteration / turn\n",
    "\n",
    "    print(number)       # print the number"
   ]
  },
  {
   "cell_type": "code",
   "execution_count": 20,
   "id": "77eefebe",
   "metadata": {},
   "outputs": [
    {
     "name": "stdout",
     "output_type": "stream",
     "text": [
      "Abby\n",
      "Becker\n",
      "Connor\n",
      "Danny\n",
      "Nick\n",
      "Sarah\n"
     ]
    }
   ],
   "source": [
    "names = [\"Abby\", \"Becker\", \"Connor\", \"Danny\", \"Helen\", \"Nick\", \"Sarah\"]\n",
    "for name in names:\n",
    "    if name == \"Helen\": # if the [current] name is \"Helen\"\n",
    "        continue        # skip\n",
    "\n",
    "    print(name)"
   ]
  },
  {
   "cell_type": "markdown",
   "id": "d499af0e",
   "metadata": {},
   "source": [
    "##### Pass\n",
    "This allows us to bypass the preceding section of code without fear of errors, this is usually used for yet-to-be implemented code or features."
   ]
  },
  {
   "cell_type": "code",
   "execution_count": 21,
   "id": "fdf8ad05",
   "metadata": {},
   "outputs": [],
   "source": [
    "for num in range(5):\n",
    "    pass"
   ]
  },
  {
   "cell_type": "markdown",
   "id": "76021d6c",
   "metadata": {},
   "source": [
    "#### 8.5 List comprehension\n",
    "A simple way of creating lists with pre-defined values, format: [Output Collection Condition]"
   ]
  },
  {
   "cell_type": "code",
   "execution_count": 22,
   "id": "571aeacb",
   "metadata": {},
   "outputs": [
    {
     "data": {
      "text/plain": [
       "[0, 0, 0, 0, 0, 0, 0, 0, 0, 0]"
      ]
     },
     "execution_count": 22,
     "metadata": {},
     "output_type": "execute_result"
    }
   ],
   "source": [
    "# away to create a list filled with 0s\n",
    "zeros = [0 for num in range(10)]\n",
    "zeros"
   ]
  },
  {
   "cell_type": "code",
   "execution_count": 23,
   "id": "e5020c2f",
   "metadata": {},
   "outputs": [
    {
     "data": {
      "text/plain": [
       "[0, 2, 4, 6, 8, 10]"
      ]
     },
     "execution_count": 23,
     "metadata": {},
     "output_type": "execute_result"
    }
   ],
   "source": [
    "# a way to create a list of even numbers\n",
    "even_numbers = [number for number in range(0, 11, 2)]\n",
    "even_numbers"
   ]
  },
  {
   "cell_type": "code",
   "execution_count": 24,
   "id": "510fcae0",
   "metadata": {},
   "outputs": [
    {
     "data": {
      "text/plain": [
       "[True, False, True, False, True, False, True, False, True, False]"
      ]
     },
     "execution_count": 24,
     "metadata": {},
     "output_type": "execute_result"
    }
   ],
   "source": [
    "# creates a list alternating between True/False\n",
    "alternating = [(num % 2 == 0) for num in range(10)]\n",
    "alternating"
   ]
  },
  {
   "cell_type": "code",
   "execution_count": 25,
   "id": "3894c71b",
   "metadata": {},
   "outputs": [
    {
     "data": {
      "text/plain": [
       "[1, 0, 1, 0, 1, 0, 1, 0, 1, 0]"
      ]
     },
     "execution_count": 25,
     "metadata": {},
     "output_type": "execute_result"
    }
   ],
   "source": [
    "# expanding this concept to use 1s and 0s\n",
    "alternating = [1 if (num % 2 == 0) else 0 for num in range(10)]\n",
    "alternating"
   ]
  },
  {
   "cell_type": "markdown",
   "id": "d5a45886",
   "metadata": {},
   "source": [
    "For More details <br>\n",
    "https://sites.google.com/view/aorbtech/programming/python"
   ]
  },
  {
   "cell_type": "markdown",
   "id": "88c5d6c4",
   "metadata": {},
   "source": [
    "##### @ Aorb Tech"
   ]
  }
 ],
 "metadata": {
  "kernelspec": {
   "display_name": "Python 3",
   "language": "python",
   "name": "python3"
  },
  "language_info": {
   "codemirror_mode": {
    "name": "ipython",
    "version": 3
   },
   "file_extension": ".py",
   "mimetype": "text/x-python",
   "name": "python",
   "nbconvert_exporter": "python",
   "pygments_lexer": "ipython3",
   "version": "3.13.5"
  }
 },
 "nbformat": 4,
 "nbformat_minor": 5
}
