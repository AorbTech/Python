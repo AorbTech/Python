{
 "cells": [
  {
   "cell_type": "markdown",
   "metadata": {},
   "source": [
    "![Image](cover/6.%20Dictionaries,%20Sets.png)"
   ]
  },
  {
   "cell_type": "markdown",
   "metadata": {},
   "source": [
    "### Outline\n",
    "1. Creating Dictionaries\n",
    "2. Accessing Dictionaries\n",
    "3. Dictionary Methods\n",
    "4. Creating Sets\n",
    "5. Set Methods"
   ]
  },
  {
   "cell_type": "markdown",
   "metadata": {},
   "source": [
    "### Dictionaries\n",
    "A dictionary is a collection of key-value pairs, where the key is essentially an index which can be used to get the value. </br>\n",
    "Dictionaries are useful when we want to store information so that it can be accessed in ways other than using integer indices. </br>\n",
    "Some basic facts about dictionaries:</br>\n",
    "* Unordered\n",
    "  * The items in the dictionary have no specific order. \n",
    "* Mutable\n",
    "  * Each Dictionary can be updated during runtime.\n",
    "* Key-uniqueness\n",
    "  * There can be no duplicate keys in a dictionary. (unidirectional relationship)</br>\n",
    "\n",
    "To create a dictionary in Python we can use the following syntax:"
   ]
  },
  {
   "cell_type": "code",
   "execution_count": 2,
   "metadata": {},
   "outputs": [
    {
     "data": {
      "text/plain": [
       "dict"
      ]
     },
     "execution_count": 2,
     "metadata": {},
     "output_type": "execute_result"
    }
   ],
   "source": [
    "example_dictionary = {\n",
    "    \"Apple\": \"A red fruit | A tech company\",\n",
    "    \"Useful\": \"Something with a purpose\",\n",
    "    \"Python\": \"A type of snake | A versitile programming language\",\n",
    "    \"Computer\": \"A box that can think | A person that calculates maths\"\n",
    "}\n",
    "# in this case the dictionary is an actualy dictionary, with words and definitions\n",
    "# the key is the word, and the value is the definition\n",
    "type(example_dictionary)"
   ]
  },
  {
   "cell_type": "code",
   "execution_count": 1,
   "metadata": {},
   "outputs": [],
   "source": [
    "student_grades = {\n",
    "    \"Eric\": 4.73,\n",
    "    \"Amir\": 4.82,\n",
    "    \"John\": 3.53,\n",
    "    \"Kate\": 4.00,\n",
    "}\n",
    "# in this case the dictionary is a list of students and their grades\n",
    "# the key is the student name, and the value is the grade"
   ]
  },
  {
   "cell_type": "code",
   "execution_count": 22,
   "metadata": {},
   "outputs": [],
   "source": [
    "# if we try to create a dictionary with duplicate keys we will get an error\n",
    "#!!!!!!!!!!!!!!!!!!!!!!!!!!!!!!!!!!!!!!!!!!!!!!!!!!!!!!!!!!!!!!!!!!!!!!!!!!!! <-- FINISH"
   ]
  },
  {
   "cell_type": "markdown",
   "metadata": {},
   "source": [
    "#### Accessing parts of a dictionary"
   ]
  },
  {
   "cell_type": "code",
   "execution_count": 4,
   "metadata": {},
   "outputs": [
    {
     "name": "stdout",
     "output_type": "stream",
     "text": [
      "4.73\n"
     ]
    }
   ],
   "source": [
    "print(student_grades[\"Eric\"])\n",
    "# this should print 4.73, as that is the value of the key \"Eric\" in the dictionary student_grades"
   ]
  },
  {
   "cell_type": "code",
   "execution_count": 6,
   "metadata": {},
   "outputs": [
    {
     "ename": "KeyError",
     "evalue": "4.73",
     "output_type": "error",
     "traceback": [
      "\u001b[1;31m---------------------------------------------------------------------------\u001b[0m",
      "\u001b[1;31mKeyError\u001b[0m                                  Traceback (most recent call last)",
      "Cell \u001b[1;32mIn[6], line 1\u001b[0m\n\u001b[1;32m----> 1\u001b[0m \u001b[38;5;28mprint\u001b[39m(\u001b[43mstudent_grades\u001b[49m\u001b[43m[\u001b[49m\u001b[38;5;241;43m4.73\u001b[39;49m\u001b[43m]\u001b[49m)\n\u001b[0;32m      2\u001b[0m \u001b[38;5;66;03m# this will throw an error, as dictionaries are one-directional, that is, you can use the key to get the value,\u001b[39;00m\n\u001b[0;32m      3\u001b[0m \u001b[38;5;66;03m# but you cannot use the value to get the key\u001b[39;00m\n",
      "\u001b[1;31mKeyError\u001b[0m: 4.73"
     ]
    }
   ],
   "source": [
    "print(student_grades[4.73])\n",
    "# this will throw an error, as dictionaries are one-directional, that is, you can use the key to get the value,\n",
    "# but you cannot use the value to get the key"
   ]
  },
  {
   "cell_type": "code",
   "execution_count": null,
   "metadata": {},
   "outputs": [
    {
     "name": "stdout",
     "output_type": "stream",
     "text": [
      "dict_items([('Eric', 4.73), ('Amir', 4.82), ('John', 3.53), ('Kate', 4.0)])\n"
     ]
    }
   ],
   "source": []
  },
  {
   "cell_type": "code",
   "execution_count": null,
   "metadata": {},
   "outputs": [
    {
     "name": "stdout",
     "output_type": "stream",
     "text": [
      "dict_keys(['Eric', 'Amir', 'John', 'Kate'])\n",
      "dict_values([4.73, 4.82, 3.53, 4.0])\n"
     ]
    }
   ],
   "source": []
  },
  {
   "cell_type": "markdown",
   "metadata": {},
   "source": [
    "#### Nested dictionaries"
   ]
  },
  {
   "cell_type": "code",
   "execution_count": 16,
   "metadata": {},
   "outputs": [],
   "source": [
    "personal_info = {\n",
    "    \"name\":\"eric\",\n",
    "    \"age\":\"19\",\n",
    "    \"phone\":{\n",
    "        \"home\":\"1234567890\",\n",
    "        \"mobile\":\"0987654321\"\n",
    "    }\n",
    "}\n",
    "# in this dictionary, the key \"phone\" has a dictionary as its value\n",
    "# this is called a nested dictionary, (a dictionary within a dictionary)"
   ]
  },
  {
   "cell_type": "code",
   "execution_count": 19,
   "metadata": {},
   "outputs": [
    {
     "name": "stdout",
     "output_type": "stream",
     "text": [
      "0987654321\n"
     ]
    }
   ],
   "source": [
    "# we can also access these values similarly, here's the Eric's mobile phone number:\n",
    "print(personal_info[\"phone\"][\"mobile\"])"
   ]
  },
  {
   "cell_type": "markdown",
   "metadata": {},
   "source": [
    "#### Adding to a dictionary\n",
    "You can add to a dictionary by adding another key-value pair, note that the same key cannot be used in the same dictionary."
   ]
  },
  {
   "cell_type": "code",
   "execution_count": 9,
   "metadata": {},
   "outputs": [],
   "source": [
    "prices = {\n",
    "    \"apple\": 0.40,\n",
    "    \"banana\": 0.75,\n",
    "    \"milk\" : 1.50\n",
    "}\n",
    "# in this case the dictionary is a list of items and their prices"
   ]
  },
  {
   "cell_type": "code",
   "execution_count": null,
   "metadata": {},
   "outputs": [
    {
     "name": "stdout",
     "output_type": "stream",
     "text": [
      "dict_items([('apple', 0.4), ('banana', 0.75), ('milk', 1.5), ('turkey sandwich', 3.59)])\n"
     ]
    }
   ],
   "source": [
    "# we can add a sandwich to the dictionary using the update() method\n",
    "prices.update({\"turkey sandwich\": 3.59})\n",
    "print(prices.items())\n",
    "# this will print the dictionary with the new item added"
   ]
  },
  {
   "cell_type": "code",
   "execution_count": 20,
   "metadata": {},
   "outputs": [
    {
     "name": "stdout",
     "output_type": "stream",
     "text": [
      "{'home': '1234567890', 'mobile': '0987654321', 'work': '1357924680'}\n"
     ]
    }
   ],
   "source": [
    "# we can also do this with the nested dictionary from earlier\n",
    "personal_info[\"phone\"].update({\"work\":\"1357924680\"})\n",
    "print(personal_info[\"phone\"])"
   ]
  },
  {
   "cell_type": "code",
   "execution_count": null,
   "metadata": {},
   "outputs": [],
   "source": []
  },
  {
   "cell_type": "markdown",
   "metadata": {},
   "source": [
    "### Dictionary Methods"
   ]
  },
  {
   "cell_type": "code",
   "execution_count": 5,
   "metadata": {},
   "outputs": [
    {
     "name": "stdout",
     "output_type": "stream",
     "text": [
      "dict_items([('jurassic park', 9.2), ('shrek', 8.4), ('the matrix', 9.6)])\n"
     ]
    }
   ],
   "source": [
    "movie_scores = {\n",
    "    \"jurassic park\": 9.2,\n",
    "    \"shrek\": 8.4,\n",
    "    \"the matrix\": 9.6,\n",
    "}\n",
    "# we can access the entire dictionary using the .items() method\n",
    "# this returns a list of tuples, where each tuple is a key-value pair\n",
    "print(movie_scores.items())"
   ]
  },
  {
   "cell_type": "code",
   "execution_count": 6,
   "metadata": {},
   "outputs": [
    {
     "name": "stdout",
     "output_type": "stream",
     "text": [
      "dict_keys(['jurassic park', 'shrek', 'the matrix'])\n",
      "dict_values([9.2, 8.4, 9.6])\n"
     ]
    }
   ],
   "source": [
    "# we can also access the keys and values separately using the .keys() and .values() methods\n",
    "print(movie_scores.keys())\n",
    "print(movie_scores.values())"
   ]
  },
  {
   "cell_type": "code",
   "execution_count": null,
   "metadata": {},
   "outputs": [],
   "source": []
  }
 ],
 "metadata": {
  "kernelspec": {
   "display_name": "Python 3",
   "language": "python",
   "name": "python3"
  },
  "language_info": {
   "codemirror_mode": {
    "name": "ipython",
    "version": 3
   },
   "file_extension": ".py",
   "mimetype": "text/x-python",
   "name": "python",
   "nbconvert_exporter": "python",
   "pygments_lexer": "ipython3",
   "version": "3.13.0"
  }
 },
 "nbformat": 4,
 "nbformat_minor": 2
}
