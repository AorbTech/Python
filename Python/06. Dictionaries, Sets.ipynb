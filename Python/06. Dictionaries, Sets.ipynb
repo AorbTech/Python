{
 "cells": [
  {
   "cell_type": "markdown",
   "metadata": {},
   "source": [
    "![Image](cover/6.%20Dictionaries,%20Sets.png)"
   ]
  },
  {
   "cell_type": "markdown",
   "metadata": {},
   "source": [
    "### Outline\n",
    "1. Creating Dictionaries\n",
    "2. Accessing Dictionaries\n",
    "3. Dictionary Methods\n",
    "4. Creating Sets\n",
    "5. Set Methods"
   ]
  },
  {
   "cell_type": "markdown",
   "metadata": {},
   "source": [
    "### Dictionaries\n",
    "A dictionary is a collection of key-value pairs, where the key is essentially an index which can be used to get the value. </br>\n",
    "Dictionaries are useful when we want to store information so that it can be accessed in ways other than using integer indices. </br>\n",
    "Some basic facts about dictionaries:</br>\n",
    "* Unordered\n",
    "  * The items in the dictionary have no specific order. \n",
    "* Mutable\n",
    "  * Each Dictionary can be updated during runtime.\n",
    "* Key-uniqueness\n",
    "  * There can be no duplicate keys in a dictionary. (unidirectional relationship)</br>\n",
    "\n",
    "To create a dictionary in Python we can use the following syntax:"
   ]
  },
  {
   "cell_type": "code",
   "execution_count": 1,
   "metadata": {},
   "outputs": [
    {
     "data": {
      "text/plain": [
       "dict"
      ]
     },
     "execution_count": 1,
     "metadata": {},
     "output_type": "execute_result"
    }
   ],
   "source": [
    "example_dictionary = {\n",
    "    \"Apple\": \"A red fruit | A tech company\",\n",
    "    \"Useful\": \"Something with a purpose\",\n",
    "    \"Python\": \"A type of snake | A versitile programming language\",\n",
    "    \"Computer\": \"A box that can think | A person that calculates maths\"\n",
    "}\n",
    "# in this case the dictionary is an actualy dictionary, with words and definitions\n",
    "# the key is the word, and the value is the definition\n",
    "type(example_dictionary)"
   ]
  },
  {
   "cell_type": "code",
   "execution_count": 2,
   "metadata": {},
   "outputs": [],
   "source": [
    "student_grades = {\n",
    "    \"Eric\": 4.73,\n",
    "    \"Amir\": 4.82,\n",
    "    \"John\": 3.53,\n",
    "    \"Kate\": 4.00,\n",
    "}\n",
    "# in this case the dictionary is a list of students and their grades\n",
    "# the key is the student name, and the value is the grade"
   ]
  },
  {
   "cell_type": "code",
   "execution_count": 3,
   "metadata": {},
   "outputs": [
    {
     "name": "stdout",
     "output_type": "stream",
     "text": [
      "{'red': '#FF1111', 'green': '#00FF00', 'blue': '#0000FF'}\n"
     ]
    }
   ],
   "source": [
    "# if we try to create a dictionary with duplicate keys only one will be registered\n",
    "colours = {\n",
    "    \"red\": \"#FF0000\",\n",
    "    \"green\": \"#00FF00\",\n",
    "    \"blue\": \"#0000FF\",\n",
    "    \"red\": \"#FF1111\"\n",
    "}\n",
    "print(colours)"
   ]
  },
  {
   "cell_type": "markdown",
   "metadata": {},
   "source": [
    "#### Accessing parts of a dictionary"
   ]
  },
  {
   "cell_type": "code",
   "execution_count": 4,
   "metadata": {},
   "outputs": [
    {
     "name": "stdout",
     "output_type": "stream",
     "text": [
      "4.73\n"
     ]
    }
   ],
   "source": [
    "print(student_grades[\"Eric\"])\n",
    "# this should print 4.73, as that is the value of the key \"Eric\" in the dictionary student_grades"
   ]
  },
  {
   "cell_type": "code",
   "execution_count": 5,
   "metadata": {},
   "outputs": [
    {
     "ename": "KeyError",
     "evalue": "4.73",
     "output_type": "error",
     "traceback": [
      "\u001b[31m---------------------------------------------------------------------------\u001b[39m",
      "\u001b[31mKeyError\u001b[39m                                  Traceback (most recent call last)",
      "\u001b[36mCell\u001b[39m\u001b[36m \u001b[39m\u001b[32mIn[5]\u001b[39m\u001b[32m, line 1\u001b[39m\n\u001b[32m----> \u001b[39m\u001b[32m1\u001b[39m \u001b[38;5;28mprint\u001b[39m(\u001b[43mstudent_grades\u001b[49m\u001b[43m[\u001b[49m\u001b[32;43m4.73\u001b[39;49m\u001b[43m]\u001b[49m)\n\u001b[32m      2\u001b[39m \u001b[38;5;66;03m# this will throw an error, as dictionaries are one-directional, that is, you can use the key to get the value,\u001b[39;00m\n\u001b[32m      3\u001b[39m \u001b[38;5;66;03m# but you cannot use the value to get the key\u001b[39;00m\n",
      "\u001b[31mKeyError\u001b[39m: 4.73"
     ]
    }
   ],
   "source": [
    "print(student_grades[4.73])\n",
    "# this will throw an error, as dictionaries are one-directional, that is, you can use the key to get the value,\n",
    "# but you cannot use the value to get the key"
   ]
  },
  {
   "cell_type": "markdown",
   "metadata": {},
   "source": [
    "#### Nested dictionaries"
   ]
  },
  {
   "cell_type": "code",
   "execution_count": 6,
   "metadata": {},
   "outputs": [
    {
     "data": {
      "text/plain": [
       "dict"
      ]
     },
     "execution_count": 6,
     "metadata": {},
     "output_type": "execute_result"
    }
   ],
   "source": [
    "personal_info = {\n",
    "    \"name\":\"eric\",\n",
    "    \"age\":\"19\",\n",
    "    \"phone\":{\n",
    "        \"home\":\"1234567890\",\n",
    "        \"mobile\":\"0987654321\"\n",
    "    }\n",
    "}\n",
    "# in this dictionary, the key \"phone\" has a dictionary as its value\n",
    "# this is called a nested dictionary, (a dictionary within a dictionary)\n",
    "type(personal_info[\"phone\"])"
   ]
  },
  {
   "cell_type": "code",
   "execution_count": 7,
   "metadata": {},
   "outputs": [
    {
     "name": "stdout",
     "output_type": "stream",
     "text": [
      "0987654321\n"
     ]
    }
   ],
   "source": [
    "# we can also access these values similarly, here's the Eric's mobile phone number:\n",
    "print(personal_info[\"phone\"][\"mobile\"])"
   ]
  },
  {
   "cell_type": "markdown",
   "metadata": {},
   "source": [
    "### Dictionary Methods"
   ]
  },
  {
   "cell_type": "code",
   "execution_count": 8,
   "metadata": {},
   "outputs": [],
   "source": [
    "movie_scores = {\n",
    "    \"jurassic park\": 9.2,\n",
    "    \"shrek\": 8.4,\n",
    "    \"the matrix\": 9.6,\n",
    "}"
   ]
  },
  {
   "cell_type": "markdown",
   "metadata": {},
   "source": [
    "#### keys()"
   ]
  },
  {
   "cell_type": "code",
   "execution_count": 9,
   "metadata": {},
   "outputs": [
    {
     "name": "stdout",
     "output_type": "stream",
     "text": [
      "dict_keys(['jurassic park', 'shrek', 'the matrix'])\n"
     ]
    }
   ],
   "source": [
    "# we can access the keys using the .keys() method\n",
    "print(movie_scores.keys())"
   ]
  },
  {
   "cell_type": "markdown",
   "metadata": {},
   "source": [
    "#### values()"
   ]
  },
  {
   "cell_type": "code",
   "execution_count": 10,
   "metadata": {},
   "outputs": [
    {
     "name": "stdout",
     "output_type": "stream",
     "text": [
      "dict_values([9.2, 8.4, 9.6])\n"
     ]
    }
   ],
   "source": [
    "# # we can also access the values using the .values() method\n",
    "print(movie_scores.values())"
   ]
  },
  {
   "cell_type": "markdown",
   "metadata": {},
   "source": [
    "#### items()"
   ]
  },
  {
   "cell_type": "code",
   "execution_count": 11,
   "metadata": {},
   "outputs": [
    {
     "name": "stdout",
     "output_type": "stream",
     "text": [
      "dict_items([('jurassic park', 9.2), ('shrek', 8.4), ('the matrix', 9.6)])\n"
     ]
    }
   ],
   "source": [
    "# we can access a list of tuples, where each tuple is a key-value pair using the .items() method\n",
    "print(movie_scores.items())"
   ]
  },
  {
   "cell_type": "markdown",
   "metadata": {},
   "source": [
    "#### update()"
   ]
  },
  {
   "cell_type": "code",
   "execution_count": 12,
   "metadata": {},
   "outputs": [],
   "source": [
    "prices = {\n",
    "    \"apple\": 0.40,\n",
    "    \"banana\": 0.75,\n",
    "    \"milk\" : 1.50\n",
    "}\n",
    "# in this case the dictionary is a list of items and their prices"
   ]
  },
  {
   "cell_type": "code",
   "execution_count": 13,
   "metadata": {},
   "outputs": [
    {
     "name": "stdout",
     "output_type": "stream",
     "text": [
      "dict_items([('apple', 0.4), ('banana', 0.75), ('milk', 1.5), ('turkey sandwich', 3.59)])\n"
     ]
    }
   ],
   "source": [
    "# we can add a sandwich to the dictionary using the update() method\n",
    "prices.update({\"turkey sandwich\": 3.59})\n",
    "print(prices.items())\n",
    "# this will print the dictionary with the new item added"
   ]
  },
  {
   "cell_type": "code",
   "execution_count": 14,
   "metadata": {},
   "outputs": [
    {
     "name": "stdout",
     "output_type": "stream",
     "text": [
      "{'home': '1234567890', 'mobile': '0987654321', 'work': '1357924680'}\n"
     ]
    }
   ],
   "source": [
    "# we can also do this with the nested dictionary from earlier\n",
    "personal_info[\"phone\"].update({\"work\":\"1357924680\"})\n",
    "print(personal_info[\"phone\"])"
   ]
  },
  {
   "cell_type": "code",
   "execution_count": 15,
   "metadata": {},
   "outputs": [
    {
     "name": "stdout",
     "output_type": "stream",
     "text": [
      "0.8\n"
     ]
    }
   ],
   "source": [
    "# we can also use this to update the value of a key, lat's make the apple more expensive\n",
    "prices.update({\"apple\": 0.80})\n",
    "print(prices[\"apple\"])"
   ]
  },
  {
   "cell_type": "code",
   "execution_count": 16,
   "metadata": {},
   "outputs": [
    {
     "name": "stdout",
     "output_type": "stream",
     "text": [
      "0192837465\n"
     ]
    }
   ],
   "source": [
    "# we can also update our mobile phone's number\n",
    "personal_info[\"phone\"].update({\"mobile\":\"0192837465\"})\n",
    "print(personal_info[\"phone\"][\"mobile\"])"
   ]
  },
  {
   "cell_type": "markdown",
   "metadata": {},
   "source": [
    "#### get()\n",
    "The get function can be used similarly to using dict[key] to get the value, the difference is in the value returned when the key we query isn't in the dictionary:</br>\n",
    "* get() --> returns None\n",
    "* [] --> returns KeyError"
   ]
  },
  {
   "cell_type": "code",
   "execution_count": 17,
   "metadata": {},
   "outputs": [],
   "source": [
    "dict1 = {\n",
    "    1: \"one\",\n",
    "    2: \"two\",\n",
    "    3: \"three\"\n",
    "}"
   ]
  },
  {
   "cell_type": "code",
   "execution_count": 18,
   "metadata": {},
   "outputs": [
    {
     "name": "stdout",
     "output_type": "stream",
     "text": [
      "None\n"
     ]
    }
   ],
   "source": [
    "print(dict1.get(4))"
   ]
  },
  {
   "cell_type": "code",
   "execution_count": 19,
   "metadata": {},
   "outputs": [
    {
     "ename": "KeyError",
     "evalue": "4",
     "output_type": "error",
     "traceback": [
      "\u001b[31m---------------------------------------------------------------------------\u001b[39m",
      "\u001b[31mKeyError\u001b[39m                                  Traceback (most recent call last)",
      "\u001b[36mCell\u001b[39m\u001b[36m \u001b[39m\u001b[32mIn[19]\u001b[39m\u001b[32m, line 1\u001b[39m\n\u001b[32m----> \u001b[39m\u001b[32m1\u001b[39m \u001b[38;5;28mprint\u001b[39m(\u001b[43mdict1\u001b[49m\u001b[43m[\u001b[49m\u001b[32;43m4\u001b[39;49m\u001b[43m]\u001b[49m) \u001b[38;5;66;03m# isn't in our dictionary so we'll get a KeyError\u001b[39;00m\n",
      "\u001b[31mKeyError\u001b[39m: 4"
     ]
    }
   ],
   "source": [
    "print(dict1[4]) # isn't in our dictionary so we'll get a KeyError"
   ]
  },
  {
   "cell_type": "markdown",
   "metadata": {},
   "source": [
    "## Sets\n",
    "Sets in Python are similar to the sets we use in mathematics, containing any number of unique values.</br>\n",
    "Some basic facts about sets:</br>\n",
    "* Unordered\n",
    "  * The items in the dictionary have no specific order.\n",
    "* Un-indexable\n",
    "  * Values in the sets cannot be indexed, accessed via an index.\n",
    "* Immutable\n",
    "  * A set cannot be updated during runtime.\n",
    "* Value-uniqueness\n",
    "  * There can be no duplicate values in a set.</br>"
   ]
  },
  {
   "cell_type": "markdown",
   "metadata": {},
   "source": [
    "### Creating Sets"
   ]
  },
  {
   "cell_type": "markdown",
   "metadata": {},
   "source": [
    "#### Using braces {}"
   ]
  },
  {
   "cell_type": "code",
   "execution_count": 20,
   "metadata": {},
   "outputs": [
    {
     "name": "stdout",
     "output_type": "stream",
     "text": [
      "<class 'set'>\n"
     ]
    }
   ],
   "source": [
    "set1 = {3, 1, 4, 5, 9}\n",
    "print(type(set1))"
   ]
  },
  {
   "cell_type": "markdown",
   "metadata": {},
   "source": [
    "#### Using the set() function"
   ]
  },
  {
   "cell_type": "code",
   "execution_count": 21,
   "metadata": {},
   "outputs": [
    {
     "data": {
      "text/plain": [
       "set"
      ]
     },
     "execution_count": 21,
     "metadata": {},
     "output_type": "execute_result"
    }
   ],
   "source": [
    "set2 = set((2, 7 ,1, 8))\n",
    "type(set2)"
   ]
  },
  {
   "cell_type": "markdown",
   "metadata": {},
   "source": [
    "#### Unique values"
   ]
  },
  {
   "cell_type": "code",
   "execution_count": 22,
   "metadata": {},
   "outputs": [
    {
     "name": "stdout",
     "output_type": "stream",
     "text": [
      "{1, 2, 3, 4, 5, 6, 9}\n"
     ]
    }
   ],
   "source": [
    "# there are repeating values in this tuple, but when we convert it to a set, the repeating values are removed\n",
    "digits_of_pi = (3, 1, 4, 1, 5, 9, 2, 6, 5, 3, 5)\n",
    "unique_digits = set(digits_of_pi)\n",
    "print(unique_digits)"
   ]
  },
  {
   "cell_type": "markdown",
   "metadata": {},
   "source": [
    "#### Empty Sets"
   ]
  },
  {
   "cell_type": "code",
   "execution_count": 23,
   "metadata": {},
   "outputs": [],
   "source": [
    "empty1 = {}         # this creates an empty dictionary\n",
    "empty2 = set(())    # this creates an empty set"
   ]
  },
  {
   "cell_type": "code",
   "execution_count": 24,
   "metadata": {},
   "outputs": [
    {
     "name": "stdout",
     "output_type": "stream",
     "text": [
      "<class 'dict'>\n",
      "<class 'set'>\n"
     ]
    }
   ],
   "source": [
    "print(type(empty1))\n",
    "print(type(empty2))"
   ]
  },
  {
   "cell_type": "markdown",
   "metadata": {},
   "source": [
    "### Set Methods"
   ]
  },
  {
   "cell_type": "markdown",
   "metadata": {},
   "source": [
    "#### add()\n",
    "Adds a given value to the set"
   ]
  },
  {
   "cell_type": "code",
   "execution_count": 25,
   "metadata": {},
   "outputs": [
    {
     "name": "stdout",
     "output_type": "stream",
     "text": [
      "{1, 2, 3, 4}\n"
     ]
    }
   ],
   "source": [
    "a = {1, 2, 3}\n",
    "a.add(4)\n",
    "print(a)"
   ]
  },
  {
   "cell_type": "markdown",
   "metadata": {},
   "source": [
    "#### len()\n",
    "Returns the cardinality of the set"
   ]
  },
  {
   "cell_type": "code",
   "execution_count": 26,
   "metadata": {},
   "outputs": [
    {
     "name": "stdout",
     "output_type": "stream",
     "text": [
      "4\n"
     ]
    }
   ],
   "source": [
    "print(len(a))"
   ]
  },
  {
   "cell_type": "markdown",
   "metadata": {},
   "source": [
    "#### remove()\n",
    "Removes a given value from the set"
   ]
  },
  {
   "cell_type": "code",
   "execution_count": 27,
   "metadata": {},
   "outputs": [
    {
     "name": "stdout",
     "output_type": "stream",
     "text": [
      "{1, 2, 4}\n"
     ]
    }
   ],
   "source": [
    "a.remove(3)\n",
    "print(a)"
   ]
  },
  {
   "cell_type": "markdown",
   "metadata": {},
   "source": [
    "#### pop()\n",
    "Removes an arbitrary value from the set and returns it."
   ]
  },
  {
   "cell_type": "code",
   "execution_count": 28,
   "metadata": {},
   "outputs": [
    {
     "name": "stdout",
     "output_type": "stream",
     "text": [
      "{16, 4, 23, 8, 42, 15}\n"
     ]
    }
   ],
   "source": [
    "b = {4, 8, 15, 16, 23, 42}\n",
    "print(b)"
   ]
  },
  {
   "cell_type": "code",
   "execution_count": 29,
   "metadata": {},
   "outputs": [
    {
     "data": {
      "text/plain": [
       "16"
      ]
     },
     "execution_count": 29,
     "metadata": {},
     "output_type": "execute_result"
    }
   ],
   "source": [
    "b.pop()"
   ]
  },
  {
   "cell_type": "code",
   "execution_count": 30,
   "metadata": {},
   "outputs": [
    {
     "data": {
      "text/plain": [
       "4"
      ]
     },
     "execution_count": 30,
     "metadata": {},
     "output_type": "execute_result"
    }
   ],
   "source": [
    "b.pop()"
   ]
  },
  {
   "cell_type": "code",
   "execution_count": 31,
   "metadata": {},
   "outputs": [
    {
     "name": "stdout",
     "output_type": "stream",
     "text": [
      "{23, 8, 42, 15}\n"
     ]
    }
   ],
   "source": [
    "print(b)"
   ]
  },
  {
   "cell_type": "markdown",
   "metadata": {},
   "source": [
    "#### clear()\n",
    "Empties the entire set"
   ]
  },
  {
   "cell_type": "code",
   "execution_count": 32,
   "metadata": {},
   "outputs": [
    {
     "name": "stdout",
     "output_type": "stream",
     "text": [
      "set()\n"
     ]
    }
   ],
   "source": [
    "b.clear()\n",
    "print(b)"
   ]
  },
  {
   "cell_type": "markdown",
   "metadata": {},
   "source": [
    "#### union()\n",
    "Returns a set containing all the values from both sets"
   ]
  },
  {
   "cell_type": "code",
   "execution_count": 33,
   "metadata": {},
   "outputs": [
    {
     "name": "stdout",
     "output_type": "stream",
     "text": [
      "{0, 1, 2, 3, 4, 5}\n"
     ]
    }
   ],
   "source": [
    "a = {1, 3, 5}\n",
    "b = {0, 2, 4}\n",
    "c = a.union(b)\n",
    "print(c)"
   ]
  },
  {
   "cell_type": "markdown",
   "metadata": {},
   "source": [
    "#### intersection()\n",
    "Returns only the values found in both sets"
   ]
  },
  {
   "cell_type": "code",
   "execution_count": 34,
   "metadata": {},
   "outputs": [
    {
     "name": "stdout",
     "output_type": "stream",
     "text": [
      "set()\n"
     ]
    }
   ],
   "source": [
    "# since neither set contains any overlapping values, the union of the two sets will be empty\n",
    "c = a.intersection(b)\n",
    "print(c)"
   ]
  },
  {
   "cell_type": "code",
   "execution_count": 35,
   "metadata": {},
   "outputs": [
    {
     "name": "stdout",
     "output_type": "stream",
     "text": [
      "{18, 12, 6}\n"
     ]
    }
   ],
   "source": [
    "# multiples of three\n",
    "a = {3, 6, 9, 12, 15, 18, 21}\n",
    "# multiples of two\n",
    "b = {2, 4, 6, 8, 10, 12, 14, 16, 18, 20}\n",
    "# the intersection of these two sets will be the multiples of both two and three\n",
    "c = a.intersection(b)\n",
    "print(c)"
   ]
  },
  {
   "cell_type": "markdown",
   "metadata": {},
   "source": [
    "For More details <br>\n",
    "https://sites.google.com/view/aorbtech/programming/python"
   ]
  },
  {
   "cell_type": "markdown",
   "metadata": {},
   "source": [
    "##### @ Aorb Tech"
   ]
  }
 ],
 "metadata": {
  "kernelspec": {
   "display_name": "Python 3",
   "language": "python",
   "name": "python3"
  },
  "language_info": {
   "codemirror_mode": {
    "name": "ipython",
    "version": 3
   },
   "file_extension": ".py",
   "mimetype": "text/x-python",
   "name": "python",
   "nbconvert_exporter": "python",
   "pygments_lexer": "ipython3",
   "version": "3.13.2"
  }
 },
 "nbformat": 4,
 "nbformat_minor": 2
}
