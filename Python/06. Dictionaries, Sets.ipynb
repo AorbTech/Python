{
 "cells": [
  {
   "cell_type": "markdown",
   "metadata": {},
   "source": [
    "![Image](cover/6.%20Dictionaries,%20Sets.png)"
   ]
  },
  {
   "cell_type": "markdown",
   "metadata": {},
   "source": [
    "### Outline\n",
    "1. Creating Dictionaries\n",
    "2. Accessing Dictionaries\n",
    "3. Dictionary Methods\n",
    "4. Creating Sets\n",
    "5. Set Methods"
   ]
  },
  {
   "cell_type": "markdown",
   "metadata": {},
   "source": [
    "### Dictionaries\n",
    "A dictionary is a collection of key-value pairs, where the key is essentially an index which can be used to get the value. </br>\n",
    "Dictionaries are useful when we want to store information so that it can be accessed in ways other than using integer indices. </br>\n",
    "To create a dictionary in Python we can use the following syntax:"
   ]
  },
  {
   "cell_type": "code",
   "execution_count": null,
   "metadata": {},
   "outputs": [],
   "source": [
    "example_dictionary = {\n",
    "    \"Apple\": \"A red fruit | A tech company\",\n",
    "    \"Useful\": \"Something with a purpose\",\n",
    "    \"Python\": \"A type of snake | A versitile programming language\",\n",
    "    \"Computer\": \"A box that can think | A person that calculates maths\"\n",
    "}\n",
    "# in this case the dictionary is an actualy dictionary, with words and definitions\n",
    "# the key is the word, and the value is the definition"
   ]
  }
 ],
 "metadata": {
  "language_info": {
   "name": "python"
  }
 },
 "nbformat": 4,
 "nbformat_minor": 2
}
