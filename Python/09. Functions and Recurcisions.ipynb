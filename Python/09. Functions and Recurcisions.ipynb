{
 "cells": [
  {
   "cell_type": "markdown",
   "id": "fb43adc2",
   "metadata": {},
   "source": [
    "![Functions](cover/9.%20Functions.png)"
   ]
  },
  {
   "cell_type": "markdown",
   "id": "17ab3e35",
   "metadata": {},
   "source": [
    "#### Outline\n",
    "* Function\n",
    "* Recurcisions"
   ]
  },
  {
   "cell_type": "markdown",
   "id": "0a7642c0",
   "metadata": {},
   "source": [
    "### Functions\n",
    "A function is a block of code that performs a specific task and can be reused whenever needed.\n"
   ]
  },
  {
   "cell_type": "code",
   "execution_count": 13,
   "id": "2a0fd963",
   "metadata": {},
   "outputs": [],
   "source": [
    "def greeting():\n",
    "    print(\"Weclome to AOrb Tech\")"
   ]
  },
  {
   "cell_type": "code",
   "execution_count": 14,
   "id": "1eb16f41",
   "metadata": {},
   "outputs": [
    {
     "name": "stdout",
     "output_type": "stream",
     "text": [
      "Weclome to AOrb Tech\n"
     ]
    }
   ],
   "source": [
    "greeting()"
   ]
  },
  {
   "cell_type": "code",
   "execution_count": 15,
   "id": "a6572075",
   "metadata": {},
   "outputs": [
    {
     "name": "stdout",
     "output_type": "stream",
     "text": [
      "Weclome to AOrb Tech\n"
     ]
    }
   ],
   "source": [
    "greeting()"
   ]
  },
  {
   "cell_type": "markdown",
   "id": "e0bcca8f",
   "metadata": {},
   "source": [
    "### Types of functions in Python\n",
    "##### There are two types of functions in Python:\n",
    "* Built in Function (Already present in Python)"
   ]
  },
  {
   "cell_type": "code",
   "execution_count": 16,
   "id": "62db6ecd",
   "metadata": {},
   "outputs": [
    {
     "data": {
      "text/plain": [
       "5"
      ]
     },
     "execution_count": 16,
     "metadata": {},
     "output_type": "execute_result"
    }
   ],
   "source": [
    "num = [1, 2, 3, 4, 9]\n",
    "len(num)"
   ]
  },
  {
   "cell_type": "markdown",
   "id": "da6e8fc8",
   "metadata": {},
   "source": [
    "* User defined function ( Create by user)"
   ]
  },
  {
   "cell_type": "code",
   "execution_count": 17,
   "id": "aa082d44",
   "metadata": {},
   "outputs": [],
   "source": [
    "def farewell():\n",
    "    print(\"Goodbye from AOrb Tech\")"
   ]
  },
  {
   "cell_type": "code",
   "execution_count": 18,
   "id": "bdf5f350",
   "metadata": {},
   "outputs": [
    {
     "name": "stdout",
     "output_type": "stream",
     "text": [
      "Goodbye from AOrb Tech\n"
     ]
    }
   ],
   "source": [
    "farewell()"
   ]
  },
  {
   "cell_type": "markdown",
   "id": "fa855715",
   "metadata": {},
   "source": [
    "### Functions with parameter and argument\n",
    "* Parameter: variable listed in the function definition.\n",
    "* Argument:  actual value you pass to the function when calling it."
   ]
  },
  {
   "cell_type": "code",
   "execution_count": null,
   "id": "e40ba2f2",
   "metadata": {},
   "outputs": [],
   "source": [
    "def greeting(name):   # parameter\n",
    "    print(\"Welcome to Aorb Tech\", name)"
   ]
  },
  {
   "cell_type": "code",
   "execution_count": 20,
   "id": "8c86fea2",
   "metadata": {},
   "outputs": [
    {
     "name": "stdout",
     "output_type": "stream",
     "text": [
      "Welcome to Aorb Tech eric\n"
     ]
    }
   ],
   "source": [
    "greeting(\"eric\")  # argument"
   ]
  },
  {
   "cell_type": "code",
   "execution_count": 21,
   "id": "ce95a9d5",
   "metadata": {},
   "outputs": [
    {
     "name": "stdout",
     "output_type": "stream",
     "text": [
      "Welcome to Aorb Tech amir\n"
     ]
    }
   ],
   "source": [
    "greeting(\"amir\")  # argument\n",
    "\n"
   ]
  },
  {
   "cell_type": "code",
   "execution_count": 23,
   "id": "87956d88",
   "metadata": {},
   "outputs": [],
   "source": [
    "def addition(no1, no2):\n",
    "    result = no1 + no2\n",
    "    return result   "
   ]
  },
  {
   "cell_type": "code",
   "execution_count": 24,
   "id": "079476cb",
   "metadata": {},
   "outputs": [
    {
     "data": {
      "text/plain": [
       "6"
      ]
     },
     "execution_count": 24,
     "metadata": {},
     "output_type": "execute_result"
    }
   ],
   "source": [
    "addition(3, 3)"
   ]
  },
  {
   "cell_type": "code",
   "execution_count": null,
   "id": "65fd67e8",
   "metadata": {},
   "outputs": [],
   "source": [
    "# Different between return and print"
   ]
  },
  {
   "cell_type": "code",
   "execution_count": 29,
   "id": "fbfb8065",
   "metadata": {},
   "outputs": [],
   "source": [
    "def addition(no1, no2):\n",
    "    result = no1 + no2\n",
    "    return result   "
   ]
  },
  {
   "cell_type": "code",
   "execution_count": 30,
   "id": "90838bd6",
   "metadata": {},
   "outputs": [],
   "source": [
    "a = addition(3, 3)"
   ]
  },
  {
   "cell_type": "code",
   "execution_count": 31,
   "id": "72a2211e",
   "metadata": {},
   "outputs": [
    {
     "name": "stdout",
     "output_type": "stream",
     "text": [
      "6\n"
     ]
    }
   ],
   "source": [
    "print(a)"
   ]
  },
  {
   "cell_type": "code",
   "execution_count": 32,
   "id": "cfea48da",
   "metadata": {},
   "outputs": [],
   "source": [
    "def addition(no1, no2):\n",
    "    result = no1 + no2\n",
    "    print(result)"
   ]
  },
  {
   "cell_type": "code",
   "execution_count": 33,
   "id": "82aefbae",
   "metadata": {},
   "outputs": [
    {
     "name": "stdout",
     "output_type": "stream",
     "text": [
      "6\n"
     ]
    }
   ],
   "source": [
    "b = addition(3, 3)"
   ]
  },
  {
   "cell_type": "code",
   "execution_count": 34,
   "id": "5997aace",
   "metadata": {},
   "outputs": [
    {
     "name": "stdout",
     "output_type": "stream",
     "text": [
      "None\n"
     ]
    }
   ],
   "source": [
    "print(b)"
   ]
  },
  {
   "cell_type": "code",
   "execution_count": 35,
   "id": "a41935b8",
   "metadata": {},
   "outputs": [
    {
     "name": "stdout",
     "output_type": "stream",
     "text": [
      "6\n"
     ]
    }
   ],
   "source": [
    "print(a)"
   ]
  },
  {
   "cell_type": "markdown",
   "id": "5c3ffb0e",
   "metadata": {},
   "source": [
    "#### Function with default parameter"
   ]
  },
  {
   "cell_type": "code",
   "execution_count": 44,
   "id": "983ed170",
   "metadata": {},
   "outputs": [],
   "source": [
    "def mul(num1= 2, num2= 3, num3= 4):\n",
    "    result = num1 * num2 * num3\n",
    "    return result"
   ]
  },
  {
   "cell_type": "code",
   "execution_count": 45,
   "id": "de114399",
   "metadata": {},
   "outputs": [
    {
     "data": {
      "text/plain": [
       "24"
      ]
     },
     "execution_count": 45,
     "metadata": {},
     "output_type": "execute_result"
    }
   ],
   "source": [
    "mul()"
   ]
  },
  {
   "cell_type": "code",
   "execution_count": 46,
   "id": "bec7730b",
   "metadata": {},
   "outputs": [
    {
     "data": {
      "text/plain": [
       "60"
      ]
     },
     "execution_count": 46,
     "metadata": {},
     "output_type": "execute_result"
    }
   ],
   "source": [
    "mul(5)"
   ]
  },
  {
   "cell_type": "code",
   "execution_count": 47,
   "id": "3869cf45",
   "metadata": {},
   "outputs": [
    {
     "data": {
      "text/plain": [
       "4"
      ]
     },
     "execution_count": 47,
     "metadata": {},
     "output_type": "execute_result"
    }
   ],
   "source": [
    "mul(1, 1)"
   ]
  },
  {
   "cell_type": "markdown",
   "id": "187b1362",
   "metadata": {},
   "source": [
    "### Recursive function"
   ]
  },
  {
   "cell_type": "markdown",
   "id": "790ef764",
   "metadata": {},
   "source": [
    "A recursive function is a function that calls itself to solve a problem."
   ]
  },
  {
   "cell_type": "code",
   "execution_count": 52,
   "id": "d1e2ccb6",
   "metadata": {},
   "outputs": [],
   "source": [
    "def factorial(n):\n",
    "    if n == 0 or n == 1:\n",
    "        return 1\n",
    "    else:\n",
    "        return n * factorial(n - 1)"
   ]
  },
  {
   "cell_type": "code",
   "execution_count": 53,
   "id": "ac208f42",
   "metadata": {},
   "outputs": [
    {
     "data": {
      "text/plain": [
       "120"
      ]
     },
     "execution_count": 53,
     "metadata": {},
     "output_type": "execute_result"
    }
   ],
   "source": [
    "factorial(5)"
   ]
  },
  {
   "cell_type": "code",
   "execution_count": null,
   "id": "0a8705b5",
   "metadata": {},
   "outputs": [],
   "source": [
    "5 * factorial(4)\n",
    "   → 4 * factorial(3)\n",
    "       → 3 * factorial(2)\n",
    "           → 2 * factorial(1)\n",
    "               → 1 (base case)\n"
   ]
  },
  {
   "cell_type": "markdown",
   "id": "6daa5ca6",
   "metadata": {},
   "source": [
    "For More details <br>\n",
    "https://sites.google.com/view/aorbtech/programming/python"
   ]
  },
  {
   "cell_type": "markdown",
   "id": "35a6da2f",
   "metadata": {},
   "source": []
  }
 ],
 "metadata": {
  "kernelspec": {
   "display_name": "Python 3",
   "language": "python",
   "name": "python3"
  },
  "language_info": {
   "codemirror_mode": {
    "name": "ipython",
    "version": 3
   },
   "file_extension": ".py",
   "mimetype": "text/x-python",
   "name": "python",
   "nbconvert_exporter": "python",
   "pygments_lexer": "ipython3",
   "version": "3.11.9"
  }
 },
 "nbformat": 4,
 "nbformat_minor": 5
}
