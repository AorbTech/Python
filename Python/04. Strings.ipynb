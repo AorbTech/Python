{
 "cells": [
  {
   "cell_type": "markdown",
   "metadata": {},
   "source": [
    "![Image](cover/4.%20Strings.png)"
   ]
  },
  {
   "cell_type": "markdown",
   "metadata": {},
   "source": [
    "### Outline\n",
    "* Syntax\n",
    "* Concatenation\n",
    "* Slicing\n",
    "* Functions\n",
    "* Special characters\n",
    "* Raw strings\n",
    "* String interpolation"
   ]
  },
  {
   "cell_type": "markdown",
   "metadata": {},
   "source": [
    "A string is a data type commonly-used for expressing text. </br>\n",
    "A string, in Python, is an ordered sequence of characters enclosed in quotation marks. </br>\n",
    "There are three main ways to define a string data type:"
   ]
  },
  {
   "cell_type": "code",
   "execution_count": 1,
   "metadata": {},
   "outputs": [],
   "source": [
    "a = 'single quotes'             # for strings with no quotation-marks\n",
    "b = \"double quotes\"             # for strings with single quotation-marks/apostraphes\n",
    "c = '''triple quotes'''         # for strings with double quotation-marks"
   ]
  },
  {
   "cell_type": "code",
   "execution_count": 2,
   "metadata": {},
   "outputs": [
    {
     "name": "stdout",
     "output_type": "stream",
     "text": [
      "single quotes\n"
     ]
    }
   ],
   "source": [
    "greeting = \"Hello world\"       # define varaible 'a' --> value \"Hello world\"\n",
    "print(a)                       # print method writes the text to the console"
   ]
  },
  {
   "cell_type": "code",
   "execution_count": 3,
   "metadata": {},
   "outputs": [
    {
     "data": {
      "text/plain": [
       "str"
      ]
     },
     "execution_count": 3,
     "metadata": {},
     "output_type": "execute_result"
    }
   ],
   "source": [
    "type(greeting)                  # data type --> string (str)"
   ]
  },
  {
   "cell_type": "markdown",
   "metadata": {},
   "source": [
    "### Concatenation\n",
    "String concatenation is the joining together of two, or more, string variables into one string variable. </br>\n",
    "It is essentially the addition of strings."
   ]
  },
  {
   "cell_type": "code",
   "execution_count": 4,
   "metadata": {},
   "outputs": [
    {
     "name": "stdout",
     "output_type": "stream",
     "text": [
      "Hello, Eric\n"
     ]
    }
   ],
   "source": [
    "greeting = \"Hello, \"                    # define the greeting variable\n",
    "name = \"Eric\"                           # define the name variable\n",
    "print(greeting + name)                  # print method"
   ]
  },
  {
   "cell_type": "code",
   "execution_count": 5,
   "metadata": {},
   "outputs": [
    {
     "name": "stdout",
     "output_type": "stream",
     "text": [
      "Hello, Eric\n"
     ]
    }
   ],
   "source": [
    "greeting_with_name = greeting + name    # define a new variable using greeting and name variables\n",
    "print(greeting_with_name)               # print method with new variable"
   ]
  },
  {
   "cell_type": "code",
   "execution_count": 6,
   "metadata": {},
   "outputs": [
    {
     "name": "stdout",
     "output_type": "stream",
     "text": [
      "My favourite song: Paranoid Android\n"
     ]
    }
   ],
   "source": [
    "prompt = \"My favourite song: \"          # define prompt\n",
    "answer = \"Paranoid Android\"             # define answer\n",
    "print(prompt + answer)                  # print method"
   ]
  },
  {
   "cell_type": "markdown",
   "metadata": {},
   "source": [
    "### String slicing\n",
    "String slicing is the accessing of a part, or 'slice', of a string. </br>\n",
    "In python string indexing starts from 0 (the first character) </br> \n",
    "Using negative numbers allows us to access from the end of the string, starting at (-1). </br>\n",
    "> The format for string slicing is [ start : end : skip ]\n",
    ">\n",
    "> \\* The range from start to end is non-inclusive, this means that only the range from the start value up to the end will be shown, but not the end value itself.\n"
   ]
  },
  {
   "cell_type": "code",
   "execution_count": 7,
   "metadata": {},
   "outputs": [
    {
     "name": "stdout",
     "output_type": "stream",
     "text": [
      "The\n"
     ]
    }
   ],
   "source": [
    "a = \"The real folk blues\"               # define a string variable with \n",
    "b = a[0:3]                              # define a new varible, b, which is a slice of a, the \n",
    "                                        # the slice includes the first three characters (0, 1, 2)\n",
    "print(b)                                # print method"
   ]
  },
  {
   "cell_type": "code",
   "execution_count": 8,
   "metadata": {},
   "outputs": [
    {
     "name": "stdout",
     "output_type": "stream",
     "text": [
      "real\n"
     ]
    }
   ],
   "source": [
    "print(a[4:8])"
   ]
  },
  {
   "cell_type": "code",
   "execution_count": 9,
   "metadata": {},
   "outputs": [
    {
     "name": "stdout",
     "output_type": "stream",
     "text": [
      "4567\n"
     ]
    }
   ],
   "source": [
    "c = \"0123456789\"\n",
    "print(c[4:8])"
   ]
  },
  {
   "cell_type": "code",
   "execution_count": 10,
   "metadata": {},
   "outputs": [
    {
     "name": "stdout",
     "output_type": "stream",
     "text": [
      "decorum est, pro patria mori.\n"
     ]
    }
   ],
   "source": [
    "old_lie = \"dulce et decorum est, pro patria mori.\"  # define a variable\n",
    "print(old_lie[9:])                                  # print method"
   ]
  },
  {
   "cell_type": "code",
   "execution_count": 11,
   "metadata": {},
   "outputs": [
    {
     "name": "stdout",
     "output_type": "stream",
     "text": [
      "dulce et \n"
     ]
    }
   ],
   "source": [
    "print(old_lie[:9])                                  # print method"
   ]
  },
  {
   "cell_type": "markdown",
   "metadata": {},
   "source": [
    "#### Slicing with negative indices"
   ]
  },
  {
   "cell_type": "code",
   "execution_count": 12,
   "metadata": {},
   "outputs": [
    {
     "name": "stdout",
     "output_type": "stream",
     "text": [
      "i\n"
     ]
    }
   ],
   "source": [
    "car = \"ferrari\"                                     # define a varible\n",
    "print(car[-1])                                      # print the final character (i)"
   ]
  },
  {
   "cell_type": "code",
   "execution_count": 13,
   "metadata": {},
   "outputs": [
    {
     "name": "stdout",
     "output_type": "stream",
     "text": [
      "rrari\n"
     ]
    }
   ],
   "source": [
    "print(car[-5:])                                     # print the last 5 characters"
   ]
  },
  {
   "cell_type": "code",
   "execution_count": 14,
   "metadata": {},
   "outputs": [
    {
     "name": "stdout",
     "output_type": "stream",
     "text": [
      "h\n"
     ]
    }
   ],
   "source": [
    "name = \"Aorb_tech\"                                  # define a variable\n",
    "print(name[-1])                                     # print the final character (h)"
   ]
  },
  {
   "cell_type": "code",
   "execution_count": 15,
   "metadata": {},
   "outputs": [
    {
     "name": "stdout",
     "output_type": "stream",
     "text": [
      "Aorb_\n"
     ]
    }
   ],
   "source": [
    "print(name[:-4])                                    # print everything upto the 4th-last character"
   ]
  },
  {
   "cell_type": "markdown",
   "metadata": {},
   "source": [
    "#### Slicing with skip"
   ]
  },
  {
   "cell_type": "code",
   "execution_count": 16,
   "metadata": {},
   "outputs": [
    {
     "name": "stdout",
     "output_type": "stream",
     "text": [
      "Lrmism t..\n"
     ]
    }
   ],
   "source": [
    "filler = \"Lorum ipsum, etc...\"                      # define a variable\n",
    "odd_characters = filler[::2]                        # new variable, containing every 2nd character of the first variable\n",
    "print(odd_characters)                               # print method"
   ]
  },
  {
   "cell_type": "code",
   "execution_count": 17,
   "metadata": {},
   "outputs": [
    {
     "name": "stdout",
     "output_type": "stream",
     "text": [
      "ou pu,ec.\n"
     ]
    }
   ],
   "source": [
    "filler = \"Lorum ipsum, etc...\"                      # define a variable\n",
    "even_characters = filler[1::2]                      # new variable, containing every 'even' character of the first variable\n",
    "print(even_characters)                              # print method"
   ]
  },
  {
   "cell_type": "code",
   "execution_count": 18,
   "metadata": {},
   "outputs": [
    {
     "name": "stdout",
     "output_type": "stream",
     "text": [
      "...cte ,muspi muroL\n"
     ]
    }
   ],
   "source": [
    "print(filler[::-1])                                 # prints the phrase every (-1) characters --> end to start (backwards)"
   ]
  },
  {
   "cell_type": "code",
   "execution_count": 19,
   "metadata": {},
   "outputs": [
    {
     "name": "stdout",
     "output_type": "stream",
     "text": [
      "rats live on no evil star\n"
     ]
    }
   ],
   "source": [
    "palindrome = \"rats live on no evil star\"            # a palindrome is a word or phrase which is the same forwards and backwards\n",
    "print(palindrome[::-1])                             # prints the phrase every (-1) characters --> end to start (backwards)\n",
    "                                                    # we should expect it to be the same backwards as forwards"
   ]
  },
  {
   "cell_type": "markdown",
   "metadata": {},
   "source": [
    "### String functions\n",
    "Python provides a large number of useful in-built functions for manipulating or interpreting strings."
   ]
  },
  {
   "cell_type": "markdown",
   "metadata": {},
   "source": [
    "#### len()\n",
    "Returns the length of the string: (the number of charcters in the string) </br>\n",
    "\\* Space is counted towards the length."
   ]
  },
  {
   "cell_type": "code",
   "execution_count": 24,
   "metadata": {},
   "outputs": [],
   "source": [
    "a = \"hello\"                         # define variable\n",
    "b = \"Aorb Tech is cool\"             # define variable (this one has spaces)\n",
    "c = \"AorbTechiscool\"                # define variable (no spaces)"
   ]
  },
  {
   "cell_type": "code",
   "execution_count": 25,
   "metadata": {},
   "outputs": [
    {
     "name": "stdout",
     "output_type": "stream",
     "text": [
      "5\n"
     ]
    }
   ],
   "source": [
    "print(len(a))"
   ]
  },
  {
   "cell_type": "code",
   "execution_count": 26,
   "metadata": {},
   "outputs": [
    {
     "name": "stdout",
     "output_type": "stream",
     "text": [
      "17\n"
     ]
    }
   ],
   "source": [
    "print(len(b))"
   ]
  },
  {
   "cell_type": "code",
   "execution_count": 27,
   "metadata": {},
   "outputs": [
    {
     "name": "stdout",
     "output_type": "stream",
     "text": [
      "14\n"
     ]
    }
   ],
   "source": [
    "print(len(c))"
   ]
  },
  {
   "cell_type": "markdown",
   "metadata": {},
   "source": [
    "#### endswith()\n",
    "Returns a boolean, specifies whether or not the variable ends with the specified string."
   ]
  },
  {
   "cell_type": "code",
   "execution_count": null,
   "metadata": {},
   "outputs": [
    {
     "name": "stdout",
     "output_type": "stream",
     "text": [
      "True\n"
     ]
    }
   ],
   "source": [
    "number = \"twenty-three\"                                         # define a variable\n",
    "print(number.endswith(\"three\"))                                 # check if it ends with \"three\""
   ]
  },
  {
   "cell_type": "code",
   "execution_count": 31,
   "metadata": {},
   "outputs": [
    {
     "name": "stdout",
     "output_type": "stream",
     "text": [
      "False\n"
     ]
    }
   ],
   "source": [
    "print(number.endswith(\"3\"))                                     # check if it ends with \"3\""
   ]
  },
  {
   "cell_type": "code",
   "execution_count": 32,
   "metadata": {},
   "outputs": [
    {
     "name": "stdout",
     "output_type": "stream",
     "text": [
      "False\n"
     ]
    }
   ],
   "source": [
    "print(number.endswith(\"two\"))                                   # check if it ends with \"two\""
   ]
  },
  {
   "cell_type": "code",
   "execution_count": 34,
   "metadata": {},
   "outputs": [
    {
     "name": "stdout",
     "output_type": "stream",
     "text": [
      "True\n"
     ]
    }
   ],
   "source": [
    "long_word = \"pneumonoultramicroscopicsilicovolcanoconiosis\"     # define a variable\n",
    "is_a_condition = long_word.endswith(\"osis\")                     # check if it ends with \"osis\"\n",
    "print(is_a_condition)                                           # print result"
   ]
  },
  {
   "cell_type": "markdown",
   "metadata": {},
   "source": [
    "#### count()\n",
    "Specifies the number of occurrences of a string in the variable."
   ]
  },
  {
   "cell_type": "code",
   "execution_count": 38,
   "metadata": {},
   "outputs": [],
   "source": [
    "phrase = \"The quick brown fox jumped over the lazy dog\"         # define a variable\n",
    "e_count = phrase.count(\"e\")                                     # check how many times the letter \"e\" occurs in the variable"
   ]
  },
  {
   "cell_type": "markdown",
   "metadata": {},
   "source": [
    "#### capitalize()\n",
    "Capitalizes the first character of a given string."
   ]
  },
  {
   "cell_type": "code",
   "execution_count": null,
   "metadata": {},
   "outputs": [
    {
     "name": "stdout",
     "output_type": "stream",
     "text": [
      "Proper sentences should begin with a capital letter.\n"
     ]
    }
   ],
   "source": [
    "phrase = \"proper sentences should begin with a capital letter.\" # define a variable\n",
    "print(phrase.capitalize())                                      # print the variable with the first letter being capital"
   ]
  },
  {
   "cell_type": "code",
   "execution_count": null,
   "metadata": {},
   "outputs": [
    {
     "name": "stdout",
     "output_type": "stream",
     "text": [
      "My name is: Eric\n"
     ]
    }
   ],
   "source": [
    "prompt = \"my name is: \"                         # define a variable\n",
    "answer = \"eric\"                                 # define a variable\n",
    "print(prompt.capitalize() + answer.capitalize())# merge capitalised variables"
   ]
  },
  {
   "cell_type": "markdown",
   "metadata": {},
   "source": [
    "#### find()\n",
    "Returns the index of the specified string in the variable. </br>\n",
    "\\* Returns (-1) if the string is not found in the variable."
   ]
  },
  {
   "cell_type": "code",
   "execution_count": null,
   "metadata": {},
   "outputs": [
    {
     "name": "stdout",
     "output_type": "stream",
     "text": [
      "5\n"
     ]
    }
   ],
   "source": [
    "fact = \"Aorb tech is super-duper cool!\"         # define a (factually-true) variable\n",
    "location = fact.find(\"tech\")                    # find the given word (tech) in the variable\n",
    "print(location)                                 # print the location"
   ]
  },
  {
   "cell_type": "code",
   "execution_count": null,
   "metadata": {},
   "outputs": [
    {
     "name": "stdout",
     "output_type": "stream",
     "text": [
      "29\n"
     ]
    }
   ],
   "source": [
    "exclamation_mark = fact.find(\"!\")               # find the location of \"!\"\n",
    "print(exclamation_mark)                         # print the result"
   ]
  },
  {
   "cell_type": "code",
   "execution_count": 48,
   "metadata": {},
   "outputs": [
    {
     "name": "stdout",
     "output_type": "stream",
     "text": [
      "6\n"
     ]
    }
   ],
   "source": [
    "print(fact.find(\"e\"))       # find the location of \"e\" in the variable --> returns the first occurrence"
   ]
  },
  {
   "cell_type": "code",
   "execution_count": 49,
   "metadata": {},
   "outputs": [
    {
     "name": "stdout",
     "output_type": "stream",
     "text": [
      "-1\n"
     ]
    }
   ],
   "source": [
    "print(fact.find(\"@\"))       # find the location of \"@\" in the variable --> isn't in the variable, returns (-1)"
   ]
  },
  {
   "cell_type": "markdown",
   "metadata": {},
   "source": [
    "#### replace()\n",
    "Replaces one string with a new string in a given variable."
   ]
  },
  {
   "cell_type": "code",
   "execution_count": 57,
   "metadata": {},
   "outputs": [
    {
     "name": "stdout",
     "output_type": "stream",
     "text": [
      "rmov vry \n"
     ]
    }
   ],
   "source": [
    "text = \"remove every e\"\n",
    "without_e = text.replace(\"e\", \"\")\n",
    "print(without_e)"
   ]
  },
  {
   "cell_type": "code",
   "execution_count": 54,
   "metadata": {},
   "outputs": [
    {
     "name": "stdout",
     "output_type": "stream",
     "text": [
      "My name is: Eric\n"
     ]
    }
   ],
   "source": [
    "a = \"My name is: placeholder\"\n",
    "b = \"Eric\"\n",
    "c = \"Amir\"\n",
    "print(a.replace(\"placeholder\", b))"
   ]
  },
  {
   "cell_type": "code",
   "execution_count": 53,
   "metadata": {},
   "outputs": [
    {
     "name": "stdout",
     "output_type": "stream",
     "text": [
      "My name is: Amir\n"
     ]
    }
   ],
   "source": [
    "print(a.replace(\"placeholder\", c))"
   ]
  },
  {
   "cell_type": "markdown",
   "metadata": {},
   "source": [
    "### Escape sequence characters\n",
    "Escape sequence characters allow us to express properties of a string. </br>\n",
    "They are made up of two characters, a backslash followed by character, but represent one.\n",
    "* \\n - new line\n",
    "* \\t - tab\n",
    "* \\\\\\ - backslash"
   ]
  },
  {
   "cell_type": "markdown",
   "metadata": {},
   "source": [
    "#### \\n (newline )"
   ]
  },
  {
   "cell_type": "code",
   "execution_count": 63,
   "metadata": {},
   "outputs": [
    {
     "name": "stdout",
     "output_type": "stream",
     "text": [
      "Every part\n",
      "begins on\n",
      "its own line.\n"
     ]
    }
   ],
   "source": [
    "lines = \"Every part\\nbegins on\\nits own line.\"\n",
    "print(lines)"
   ]
  },
  {
   "cell_type": "markdown",
   "metadata": {},
   "source": [
    "#### \\t (tab)"
   ]
  },
  {
   "cell_type": "code",
   "execution_count": 64,
   "metadata": {},
   "outputs": [
    {
     "name": "stdout",
     "output_type": "stream",
     "text": [
      "Hello\tworld!\n"
     ]
    }
   ],
   "source": [
    "phrase = \"Hello\\tworld!\"\n",
    "print(phrase)"
   ]
  },
  {
   "cell_type": "markdown",
   "metadata": {},
   "source": [
    "#### \\\\\\ (backslash)"
   ]
  },
  {
   "cell_type": "code",
   "execution_count": 69,
   "metadata": {},
   "outputs": [
    {
     "name": "stdout",
     "output_type": "stream",
     "text": [
      "This phrase has \\backslashes\\\n"
     ]
    }
   ],
   "source": [
    "backslashes = \"This phrase has \\\\backslashes\\\\\"\n",
    "print(backslashes)"
   ]
  },
  {
   "cell_type": "markdown",
   "metadata": {},
   "source": [
    "### Raw strings\n",
    "Raw strings allow us to specify strings with no constraints with the text enclosed within the quotation marks."
   ]
  },
  {
   "cell_type": "code",
   "execution_count": 72,
   "metadata": {},
   "outputs": [
    {
     "name": "stdout",
     "output_type": "stream",
     "text": [
      "this\\string\\\\has\\forbidde\\ncharac\\ters\n"
     ]
    }
   ],
   "source": [
    "raw_string = r\"this\\string\\\\has\\forbidde\\ncharac\\ters\"\n",
    "print(raw_string)"
   ]
  },
  {
   "cell_type": "markdown",
   "metadata": {},
   "source": [
    "### String interpolation\n",
    "String interpolation allows us to incorporate placeholders, such as other variables, into our strings."
   ]
  },
  {
   "cell_type": "markdown",
   "metadata": {},
   "source": [
    "#### F-strings\n",
    "F-strings are another way of doing this that use braces to express the variables."
   ]
  },
  {
   "cell_type": "code",
   "execution_count": null,
   "metadata": {},
   "outputs": [],
   "source": [
    "PI = 3.14159\n",
    "explanation = f\"PI is roughly equal to: {PI}, it represents the ratio of a circle's radius to its circumference.\"\n",
    "print()"
   ]
  }
 ],
 "metadata": {
  "kernelspec": {
   "display_name": "Python 3",
   "language": "python",
   "name": "python3"
  },
  "language_info": {
   "codemirror_mode": {
    "name": "ipython",
    "version": 3
   },
   "file_extension": ".py",
   "mimetype": "text/x-python",
   "name": "python",
   "nbconvert_exporter": "python",
   "pygments_lexer": "ipython3",
   "version": "3.13.0"
  }
 },
 "nbformat": 4,
 "nbformat_minor": 2
}
