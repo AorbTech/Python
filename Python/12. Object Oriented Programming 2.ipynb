{
 "cells": [
  {
   "cell_type": "markdown",
   "id": "fbddb42e",
   "metadata": {},
   "source": [
    "![Image](cover/12.%20Object%20Oriented%20Programming%202.png)"
   ]
  },
  {
   "cell_type": "markdown",
   "id": "2e35869a",
   "metadata": {},
   "source": [
    "### Outline\n",
    "* Inheritance\n",
    "* Overriding\n",
    "* Types of Inheritance\n",
    "* Super Method\n",
    "* Class method decorator\n",
    "* Property decorators\n",
    "* Operator overloading\n",
    "* Dunder/Magic methods"
   ]
  },
  {
   "cell_type": "markdown",
   "id": "3e24d6d9",
   "metadata": {},
   "source": [
    "#### Inheritance\n",
    "Inheritance is a way of passing down properties and methods from one class to another."
   ]
  },
  {
   "cell_type": "markdown",
   "id": "10a916e5",
   "metadata": {},
   "source": [
    "##### Syntax"
   ]
  },
  {
   "cell_type": "code",
   "execution_count": 1,
   "id": "49a7d336",
   "metadata": {},
   "outputs": [],
   "source": [
    "class food:\n",
    "    pass\n",
    "class apple(food):\n",
    "    pass"
   ]
  },
  {
   "cell_type": "code",
   "execution_count": 2,
   "id": "a2fa866d",
   "metadata": {},
   "outputs": [
    {
     "name": "stdout",
     "output_type": "stream",
     "text": [
      "food\n"
     ]
    }
   ],
   "source": [
    "class food:\n",
    "    def name(self):\n",
    "        print(\"food\")\n",
    "\n",
    "class apple(food):\n",
    "    pass\n",
    "\n",
    "f = food()\n",
    "a = apple()\n",
    "a.name()"
   ]
  },
  {
   "cell_type": "markdown",
   "id": "72dcea87",
   "metadata": {},
   "source": [
    "##### Overriding"
   ]
  },
  {
   "cell_type": "code",
   "execution_count": 3,
   "id": "a15470da",
   "metadata": {},
   "outputs": [
    {
     "name": "stdout",
     "output_type": "stream",
     "text": [
      "apple\n"
     ]
    }
   ],
   "source": [
    "class food:\n",
    "    def name(self):\n",
    "        print(\"food\")\n",
    "\n",
    "class apple(food):\n",
    "    def name(self):\n",
    "        print(\"apple\")\n",
    "\n",
    "f = food()\n",
    "a = apple()\n",
    "a.name()"
   ]
  },
  {
   "cell_type": "markdown",
   "id": "0f349719",
   "metadata": {},
   "source": [
    "#### Types of Inheritance\n",
    "1. Single\n",
    "2. Multiple\n",
    "3. Multi-level"
   ]
  },
  {
   "cell_type": "markdown",
   "id": "d7d93609",
   "metadata": {},
   "source": [
    "##### Single Inheritance\n",
    "`parent class` --> `child class`"
   ]
  },
  {
   "cell_type": "code",
   "execution_count": 4,
   "id": "a48620aa",
   "metadata": {},
   "outputs": [],
   "source": [
    "class school:\n",
    "    pass\n",
    "class room(school):\n",
    "    pass"
   ]
  },
  {
   "cell_type": "code",
   "execution_count": 5,
   "id": "7214926f",
   "metadata": {},
   "outputs": [
    {
     "data": {
      "text/plain": [
       "5"
      ]
     },
     "execution_count": 5,
     "metadata": {},
     "output_type": "execute_result"
    }
   ],
   "source": [
    "class school:\n",
    "    def name(self):\n",
    "        print(\"LearnToPy\")\n",
    "\n",
    "class room(school):\n",
    "    num_of_students = 5\n",
    "\n",
    "r = room()\n",
    "r.num_of_students\n"
   ]
  },
  {
   "cell_type": "markdown",
   "id": "b0a1aa75",
   "metadata": {},
   "source": [
    "##### Multiple Inheritance\n",
    "\n",
    "`parent class A` --> `child class` <-- `parent class B`"
   ]
  },
  {
   "cell_type": "code",
   "execution_count": 6,
   "id": "7d7f6372",
   "metadata": {},
   "outputs": [
    {
     "name": "stdout",
     "output_type": "stream",
     "text": [
      "Egg has been laid\n",
      "Quonk\n",
      "Tail has been spread\n"
     ]
    },
    {
     "data": {
      "text/plain": [
       "'turduckin'"
      ]
     },
     "execution_count": 6,
     "metadata": {},
     "output_type": "execute_result"
    }
   ],
   "source": [
    "class chicken:\n",
    "    def lay_egg(self):\n",
    "        print(\"Egg has been laid\")\n",
    "\n",
    "class duck:\n",
    "    def quack(self):\n",
    "        print(\"Quack\")\n",
    "\n",
    "class turkey:\n",
    "    def spread_tail(self):\n",
    "        print(\"Tail has been spread\")\n",
    "\n",
    "class turduckin(chicken, duck, turkey):\n",
    "    name = \"turduckin\"\n",
    "    def quack(self):\n",
    "        print(\"Quonk\")\n",
    "\n",
    "t = turduckin()\n",
    "t.lay_egg()\n",
    "t.quack()\n",
    "t.spread_tail()\n",
    "t.name"
   ]
  },
  {
   "cell_type": "markdown",
   "id": "d6b3d1e5",
   "metadata": {},
   "source": [
    "##### Multi-level Inheritance\n",
    "`base class` --> `intermediary class(es)` --> `derived class`"
   ]
  },
  {
   "cell_type": "code",
   "execution_count": 7,
   "id": "544dd7fc",
   "metadata": {},
   "outputs": [],
   "source": [
    "class grandfather:\n",
    "    pass\n",
    "class father(grandfather):\n",
    "    pass\n",
    "class child(father):\n",
    "    pass"
   ]
  },
  {
   "cell_type": "code",
   "execution_count": 8,
   "id": "c06448ae",
   "metadata": {},
   "outputs": [
    {
     "name": "stdout",
     "output_type": "stream",
     "text": [
      "Gerald\n",
      "Pat\n",
      "Goo goo gaa gaa\n"
     ]
    },
    {
     "data": {
      "text/plain": [
       "'ball'"
      ]
     },
     "execution_count": 8,
     "metadata": {},
     "output_type": "execute_result"
    }
   ],
   "source": [
    "class grandfather:\n",
    "    family_hairloom = \"ball\"\n",
    "    name = \"Gerald\"\n",
    "    def say_name(self):\n",
    "        print(self.name)\n",
    "class father(grandfather):\n",
    "    name = \"Patrick\"\n",
    "    def say_name(self):\n",
    "        print(\"Pat\")\n",
    "class child(father):\n",
    "    name = \"Mason\"\n",
    "    def say_name(self):\n",
    "        print(\"Goo goo gaa gaa\")\n",
    "\n",
    "g = grandfather()\n",
    "f = father()\n",
    "c = child()\n",
    "\n",
    "g.say_name()\n",
    "f.say_name()\n",
    "c.say_name()\n",
    "\n",
    "c.family_hairloom"
   ]
  },
  {
   "cell_type": "markdown",
   "id": "85a7fb80",
   "metadata": {},
   "source": [
    "#### Super() method\n",
    "The super method is used to access the methods of the parent class of the derived class."
   ]
  },
  {
   "cell_type": "code",
   "execution_count": 9,
   "id": "d7c18741",
   "metadata": {},
   "outputs": [
    {
     "data": {
      "text/plain": [
       "32"
      ]
     },
     "execution_count": 9,
     "metadata": {},
     "output_type": "execute_result"
    }
   ],
   "source": [
    "class parent():\n",
    "    age = 32\n",
    "    \n",
    "class child(parent):\n",
    "    age = 8\n",
    "    def parent_age(self):\n",
    "        return super().age\n",
    "\n",
    "c = child()\n",
    "c.age\n",
    "c.parent_age()"
   ]
  },
  {
   "cell_type": "markdown",
   "id": "5fb62275",
   "metadata": {},
   "source": [
    "#### Class method decorator"
   ]
  },
  {
   "cell_type": "markdown",
   "id": "5c558a0e",
   "metadata": {},
   "source": [
    "A class method is a method which is only present in the class and not the object. </br> A decorator `@classmethod` is used to create a class method."
   ]
  },
  {
   "cell_type": "code",
   "execution_count": 10,
   "id": "a4af86ad",
   "metadata": {},
   "outputs": [
    {
     "name": "stdout",
     "output_type": "stream",
     "text": [
      "25\n",
      "20\n",
      "25\n"
     ]
    }
   ],
   "source": [
    "class person:\n",
    "    age = 25\n",
    "\n",
    "    def change_age(self, age):\n",
    "        self.age = age\n",
    "\n",
    "jerry = person()  # create a person called jerry\n",
    "print(jerry.age)    # print jerry's age\n",
    "\n",
    "jerry.change_age(20)# use the change_age method\n",
    "print(jerry.age)    # print jerry's age\n",
    "\n",
    "print(person.age)   # print the person class age"
   ]
  },
  {
   "cell_type": "code",
   "execution_count": 11,
   "id": "08a46430",
   "metadata": {},
   "outputs": [
    {
     "name": "stdout",
     "output_type": "stream",
     "text": [
      "25\n",
      "20\n",
      "20\n"
     ]
    }
   ],
   "source": [
    "class person:\n",
    "    age = 25\n",
    "\n",
    "    @classmethod\n",
    "    def change_age(cls, age):\n",
    "        cls.age = age\n",
    "\n",
    "jerry = person()  # create a person called jerry\n",
    "print(jerry.age)    # print jerry's age\n",
    "\n",
    "jerry.change_age(20)# use the change_age method\n",
    "print(jerry.age)    # print jerry's age\n",
    "\n",
    "print(person.age)   # print the person class age"
   ]
  },
  {
   "cell_type": "markdown",
   "id": "5b759000",
   "metadata": {},
   "source": [
    "#### Property decorators\n",
    "Allows us to create get and set methods. </br> This is a way of controlling what data can pass into and out of our objects and how."
   ]
  },
  {
   "cell_type": "markdown",
   "id": "c96d7717",
   "metadata": {},
   "source": [
    "##### 1. @getters"
   ]
  },
  {
   "cell_type": "code",
   "execution_count": 12,
   "id": "0ade18b8",
   "metadata": {},
   "outputs": [
    {
     "ename": "AttributeError",
     "evalue": "property 'current_age' of 'goat' object has no setter",
     "output_type": "error",
     "traceback": [
      "\u001b[31m---------------------------------------------------------------------------\u001b[39m",
      "\u001b[31mAttributeError\u001b[39m                            Traceback (most recent call last)",
      "\u001b[36mCell\u001b[39m\u001b[36m \u001b[39m\u001b[32mIn[12]\u001b[39m\u001b[32m, line 9\u001b[39m\n\u001b[32m      6\u001b[39m         \u001b[38;5;28;01mreturn\u001b[39;00m \u001b[38;5;28mself\u001b[39m.age\n\u001b[32m      8\u001b[39m g = goat()\n\u001b[32m----> \u001b[39m\u001b[32m9\u001b[39m \u001b[43mg\u001b[49m\u001b[43m.\u001b[49m\u001b[43mcurrent_age\u001b[49m = \u001b[32m18\u001b[39m\n",
      "\u001b[31mAttributeError\u001b[39m: property 'current_age' of 'goat' object has no setter"
     ]
    }
   ],
   "source": [
    "class goat:\n",
    "    age = 7\n",
    "\n",
    "    @property\n",
    "    def current_age(self):\n",
    "        return self.age\n",
    "    \n",
    "g = goat()\n",
    "g.current_age = 18"
   ]
  },
  {
   "cell_type": "markdown",
   "id": "e8567c23",
   "metadata": {},
   "source": [
    "##### 2. @setter"
   ]
  },
  {
   "cell_type": "code",
   "execution_count": 13,
   "id": "bcd15731",
   "metadata": {},
   "outputs": [
    {
     "name": "stdout",
     "output_type": "stream",
     "text": [
      "Elizabeth is responsible!\n"
     ]
    }
   ],
   "source": [
    "class dialogue:\n",
    "    accused = \"Derek\"\n",
    "\n",
    "    @property\n",
    "    def accused_name(self):\n",
    "        return self.accused\n",
    "\n",
    "    @accused_name.setter\n",
    "    def accused_name(self, name):\n",
    "        self.accused = name\n",
    "    \n",
    "    def accuse(self):\n",
    "        print(f\"{self.accused} is responsible!\")\n",
    "\n",
    "d = dialogue()\n",
    "d.accused_name = \"Elizabeth\"\n",
    "d.accuse()"
   ]
  },
  {
   "cell_type": "markdown",
   "id": "86774f4d",
   "metadata": {},
   "source": [
    "#### Operator overloading"
   ]
  },
  {
   "cell_type": "markdown",
   "id": "4b775db7",
   "metadata": {},
   "source": [
    "Allows us to control what happens when we apply operators between objects."
   ]
  },
  {
   "cell_type": "code",
   "execution_count": 14,
   "id": "41089d4b",
   "metadata": {},
   "outputs": [
    {
     "name": "stdout",
     "output_type": "stream",
     "text": [
      "Adding: 7 and 42\n"
     ]
    },
    {
     "data": {
      "text/plain": [
       "49"
      ]
     },
     "execution_count": 14,
     "metadata": {},
     "output_type": "execute_result"
    }
   ],
   "source": [
    "class number:\n",
    "    def __init__(self, num):\n",
    "        self.num = num\n",
    "\n",
    "    def __add__(self, num2):\n",
    "        print(f\"Adding: {self.num} and {num2.num}\")\n",
    "        return self.num + num2.num\n",
    "    \n",
    "a = number(7)\n",
    "b = number(42)\n",
    "sum = a + b\n",
    "sum"
   ]
  },
  {
   "cell_type": "markdown",
   "id": "4285eb88",
   "metadata": {},
   "source": [
    "#### Other Dunder/Magic methods"
   ]
  },
  {
   "cell_type": "markdown",
   "id": "c5525857",
   "metadata": {},
   "source": [
    "**str**() --> Used to return a string representation of the object. </br>\n",
    "**len**() --> Used to return a numerical value representing the length of our object. </br>\n",
    "**repr**() --> Used to return the values necessary to recreate the object."
   ]
  },
  {
   "cell_type": "code",
   "execution_count": 15,
   "id": "d25f3d63",
   "metadata": {},
   "outputs": [
    {
     "name": "stdout",
     "output_type": "stream",
     "text": [
      "Ben\n"
     ]
    }
   ],
   "source": [
    "class person:\n",
    "    def __init__(self, name):\n",
    "        self.name = name\n",
    "    \n",
    "    def __str__(self):\n",
    "        return self.name\n",
    "    \n",
    "a = person(\"Ben\")\n",
    "print(a)"
   ]
  },
  {
   "cell_type": "code",
   "execution_count": 16,
   "id": "81c8ae77",
   "metadata": {},
   "outputs": [
    {
     "data": {
      "text/plain": [
       "170"
      ]
     },
     "execution_count": 16,
     "metadata": {},
     "output_type": "execute_result"
    }
   ],
   "source": [
    "class person:\n",
    "    def __init__(self, height):\n",
    "        self.height = height\n",
    "\n",
    "    def __len__(self):\n",
    "        return self.height\n",
    "    \n",
    "b = person(170)\n",
    "len(b)"
   ]
  },
  {
   "cell_type": "code",
   "execution_count": 17,
   "id": "42aff152",
   "metadata": {},
   "outputs": [
    {
     "name": "stdout",
     "output_type": "stream",
     "text": [
      "My name is George Baker\n",
      "My name is George Baker\n"
     ]
    }
   ],
   "source": [
    "class person:\n",
    "    def __init__(self, name, surname):\n",
    "        self.name = name\n",
    "        self.surname = surname\n",
    "\n",
    "    def __str__(self):\n",
    "        return f\"My name is {self.name} {self.surname}\"\n",
    "\n",
    "    def __repr__(self):\n",
    "        return f\"{self.name}, {self.surname}\"\n",
    "    \n",
    "a = person(\"George\", \"Baker\")\n",
    "print(a)\n",
    "b = person(*repr(a).split(\", \"))\n",
    "print(b)"
   ]
  },
  {
   "cell_type": "markdown",
   "id": "9c0b5a28",
   "metadata": {},
   "source": [
    "For More details <br>\n",
    "https://sites.google.com/view/aorbtech/programming/python"
   ]
  },
  {
   "cell_type": "markdown",
   "id": "184e1edb",
   "metadata": {},
   "source": [
    "##### @ Aorb Tech"
   ]
  }
 ],
 "metadata": {
  "kernelspec": {
   "display_name": "Python 3",
   "language": "python",
   "name": "python3"
  },
  "language_info": {
   "codemirror_mode": {
    "name": "ipython",
    "version": 3
   },
   "file_extension": ".py",
   "mimetype": "text/x-python",
   "name": "python",
   "nbconvert_exporter": "python",
   "pygments_lexer": "ipython3",
   "version": "3.13.5"
  }
 },
 "nbformat": 4,
 "nbformat_minor": 5
}
